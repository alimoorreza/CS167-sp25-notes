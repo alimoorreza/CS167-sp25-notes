{
  "cells": [
    {
      "cell_type": "markdown",
      "metadata": {
        "id": "view-in-github",
        "colab_type": "text"
      },
      "source": [
        "<a href=\"https://colab.research.google.com/github/alimoorreza/CS167-sp25-notes/blob/main/Day09_Evaluation_Metrics_and_Testing.ipynb\" target=\"_parent\"><img src=\"https://colab.research.google.com/assets/colab-badge.svg\" alt=\"Open In Colab\"/></a>"
      ]
    },
    {
      "cell_type": "markdown",
      "metadata": {
        "id": "mH-u_0vEIAD3"
      },
      "source": [
        "# CS167: Day09\n",
        "## Metrics and Testing\n",
        "\n",
        "#### CS167: Machine Learning, Spring 2025\n",
        "\n",
        "\n",
        "📜 [Syllabus](https://analytics.drake.edu/~reza/teaching/cs167_sp25/cs167_syllabus_sp25.pdf)"
      ]
    },
    {
      "cell_type": "code",
      "execution_count": 3,
      "metadata": {
        "id": "tNEgJPpmIAD8",
        "colab": {
          "base_uri": "https://localhost:8080/"
        },
        "outputId": "ae97b937-a639-439f-edaf-accb3ac089e3"
      },
      "outputs": [
        {
          "output_type": "stream",
          "name": "stdout",
          "text": [
            "Mounted at /content/drive\n"
          ]
        }
      ],
      "source": [
        "#run this cell if you're using Colab:\n",
        "from google.colab import drive\n",
        "drive.mount('/content/drive')"
      ]
    },
    {
      "cell_type": "code",
      "source": [
        "import pandas as pd\n",
        "import numpy as np\n",
        "import pdb"
      ],
      "metadata": {
        "id": "k56ZgWlvpJRs"
      },
      "execution_count": null,
      "outputs": []
    },
    {
      "cell_type": "markdown",
      "metadata": {
        "id": "GHLBwABgIAEB"
      },
      "source": [
        "## Cross-Validation\n",
        "\n",
        "Don't train the model on the testing data!\n",
        "\n",
        "<div>\n",
        "<img src=\"https://analytics.drake.edu/~reza/teaching/cs167_sp25/notes/images/day04_cross_validation.png\" width=400/>\n",
        "</div>"
      ]
    },
    {
      "cell_type": "markdown",
      "metadata": {
        "id": "vbhShjEbIAEB"
      },
      "source": [
        "## Cross-Validation Code:\n",
        "\n",
        "A good rule of thumb is that we like to train our model with 80% of the given data examples (training set), and test it on 20% of the given data examples (training set).\n",
        "\n",
        "Splitting datasets into training and testing sets with a Pandas DataFrame:"
      ]
    },
    {
      "cell_type": "markdown",
      "metadata": {
        "id": "uln5L6yuIAEE"
      },
      "source": [
        "## Let's see how accurate our kNN model is:\n",
        "\n",
        "Start with loading the data and setting up some cross-validation:"
      ]
    },
    {
      "cell_type": "code",
      "execution_count": 4,
      "metadata": {
        "id": "5Iwq6qMJIAEE",
        "colab": {
          "base_uri": "https://localhost:8080/"
        },
        "outputId": "9a15d0a1-c716-4939-d701-00035d59fa3a"
      },
      "outputs": [
        {
          "output_type": "execute_result",
          "data": {
            "text/plain": [
              "(130, 5)"
            ]
          },
          "metadata": {},
          "execution_count": 4
        }
      ],
      "source": [
        "import pandas as pd\n",
        "import numpy as np\n",
        "iris = pd.read_csv('/content/drive/MyDrive/cs167_sp25/datasets/irisData.csv')\n",
        "\n",
        "#shuffle the iris \"sampling\" the full set in random order\n",
        "shuffled_data = iris.sample(frac=1, random_state=41)\n",
        "\n",
        "# set up training and testing set\n",
        "number_of_test_samples = 20\n",
        "test_data = shuffled_data.iloc[0:number_of_test_samples] #test on the first 20 rows of shuffled\n",
        "train_data = shuffled_data.iloc[number_of_test_samples:] #train on the rest\n",
        "train_data.shape"
      ]
    },
    {
      "cell_type": "markdown",
      "metadata": {
        "id": "W_0mF7YTIAEF"
      },
      "source": [
        "Then, let's bring in our `kNN()` function--here I'm calling it `classify_kNN()` becuase it uses `mode()` to return the prediction which only works for classifcation."
      ]
    },
    {
      "cell_type": "code",
      "execution_count": null,
      "metadata": {
        "id": "4G4GN2hyIAEF"
      },
      "outputs": [],
      "source": [
        "def classify_kNN(new_example,train_data,k):\n",
        "    #getting a copy of the training set just so we don't\n",
        "    #mess up the original\n",
        "    train_data_copy = train_data.copy()\n",
        "    train_data_copy['distance_to_new'] = numpy.sqrt(\n",
        "        (new_example['petal length']-train_data_copy['petal length'])**2\n",
        "        +(new_example['sepal length']-train_data_copy['sepal length'])**2\n",
        "        +(new_example['petal width']-train_data_copy['petal width'])**2\n",
        "        +(new_example['sepal width']-train_data_copy['sepal width'])**2)\n",
        "\n",
        "    sorted_data = train_data_copy.sort_values(['distance_to_new'])\n",
        "    #mode to get most common thing in the first k examples in the sorted dataframe\n",
        "    #iloc to get the actual string, mode will return the string inside of a pandas Series\n",
        "    prediction = sorted_data.iloc[0:k]['species'].mode().iloc[0]\n",
        "    return prediction"
      ]
    },
    {
      "cell_type": "markdown",
      "metadata": {
        "id": "AJDcByuhIAEF"
      },
      "source": [
        "Now, let's write a function `classify_all_kNN(test_data, train_data,k):` that:\n",
        "- goes through each example in the `test_data`, and gets the prediction using our `kNN()` function\n",
        "- It will return a pandas `Series` that has the predictions for each row in `test_data`.\n",
        "\n",
        "It should look something like this:"
      ]
    },
    {
      "cell_type": "code",
      "execution_count": null,
      "metadata": {
        "id": "t4Uzx5ZOIAEF"
      },
      "outputs": [],
      "source": [
        "def classify_all_kNN(test_data,train_data, k):\n",
        "    #apply the classify_kNN function to each item in the test data with the train\n",
        "    #data and k passed as the other two arguments. The result will be a series of\n",
        "    #the individual results.\n",
        "\n",
        "    results = []\n",
        "\n",
        "    for i in range(len(test_data)):\n",
        "        prediction = classify_kNN(test_data.iloc[i], train_data,k)\n",
        "        results.append(prediction)\n",
        "\n",
        "    return pd.Series(results)"
      ]
    },
    {
      "cell_type": "markdown",
      "source": [
        "Next, let's write a function for accuracy that will compare the actual species with the predicted species and return the percent we got correct."
      ],
      "metadata": {
        "id": "h5ZmqV2V33cb"
      }
    },
    {
      "cell_type": "code",
      "source": [
        "def calculate_accuracy(actual, predicted):\n",
        "    #get the series comparing the two series: actual and predicted\n",
        "    total_samples       = len(actual)               # Or since both series (actual and predicted) are of the same length, you could also do: total_samples = len(predicted)\n",
        "    compared            = actual == predicted  # find which rows are of of the same value (eg, for IrisData it could be: 'Iris-setosa' == 'Iris-setosa' or 'Iris-virginica' == 'Iris-virginica', etc)\n",
        "    #print(compared)\n",
        "    condition_correct   = compared == True\n",
        "\n",
        "    correct_predictions = compared[ condition_correct ] # keep only those rows from 'compared'\n",
        "    num_correct         = len(correct_predictions)      # count the size\n",
        "    frac_correct        = num_correct/total_samples\n",
        "\n",
        "    return frac_correct\n"
      ],
      "metadata": {
        "id": "ys_VYP2k3zUR"
      },
      "execution_count": null,
      "outputs": []
    },
    {
      "cell_type": "markdown",
      "metadata": {
        "id": "vknKLYGLIAEF"
      },
      "source": [
        "Now, let's pull it all together and see how our kNN does:"
      ]
    },
    {
      "cell_type": "code",
      "execution_count": null,
      "metadata": {
        "id": "RaWwld7rIAEG",
        "outputId": "351c0323-19e5-46d9-83df-a08238fe4c2e",
        "colab": {
          "base_uri": "https://localhost:8080/"
        }
      },
      "outputs": [
        {
          "output_type": "stream",
          "name": "stdout",
          "text": [
            "ACTUAL               PREDICTIONS         \n",
            "Iris-virginica       Iris-virginica      \n",
            "Iris-virginica       Iris-virginica      \n",
            "Iris-virginica       Iris-virginica      \n",
            "Iris-versicolor      Iris-versicolor     \n",
            "Iris-virginica       Iris-virginica      \n",
            "Iris-versicolor      Iris-versicolor     \n",
            "Iris-virginica       Iris-virginica      \n",
            "Iris-versicolor      Iris-versicolor     \n",
            "Iris-virginica       Iris-virginica      \n",
            "Iris-virginica       Iris-virginica      \n",
            "Iris-virginica       Iris-virginica      \n",
            "Iris-setosa          Iris-setosa         \n",
            "Iris-setosa          Iris-setosa         \n",
            "Iris-versicolor      Iris-versicolor     \n",
            "Iris-setosa          Iris-setosa         \n",
            "Iris-virginica       Iris-virginica      \n",
            "Iris-setosa          Iris-setosa         \n",
            "Iris-versicolor      Iris-virginica      \n",
            "Iris-setosa          Iris-setosa         \n",
            "Iris-setosa          Iris-setosa         \n",
            "accuracy: 0.95\n"
          ]
        }
      ],
      "source": [
        "import numpy\n",
        "\n",
        "# Step 1: find the classification labels for all the samples in the test split using let's say k=11\n",
        "k               = 11\n",
        "predictionsKNN  = classify_all_kNN(test_data, train_data, k)\n",
        "\n",
        "#Step 2: display the actual label and this will print out our predictions so we can see\n",
        "print(f\"{'ACTUAL':<{20}} {'PREDICTIONS':<{20}}\")\n",
        "for i in range(20):\n",
        "  actual_sample     = test_data['species'].iloc[i]\n",
        "  predicted_sample  = predictionsKNN.iloc[i]\n",
        "  print(f\"{actual_sample:<{20}} {predicted_sample:<{20}}\")\n",
        "\n",
        "# Step 3: calculate the evaluation metric 'accuracy' as we are doing ML classification\n",
        "acc = calculate_accuracy(test_data['species'].reset_index(drop=True),\n",
        "                         predictionsKNN.reset_index(drop=True))\n",
        "\n",
        "print(\"accuracy:\", acc)"
      ]
    },
    {
      "cell_type": "markdown",
      "source": [
        "Putting everything together"
      ],
      "metadata": {
        "id": "4PQwRNQ56XvN"
      }
    },
    {
      "cell_type": "code",
      "execution_count": null,
      "metadata": {
        "id": "32AaVxk7IAEG",
        "outputId": "9254a830-6a87-4a8d-d389-1e22b1c3f111",
        "colab": {
          "base_uri": "https://localhost:8080/",
          "height": 497
        }
      },
      "outputs": [
        {
          "output_type": "display_data",
          "data": {
            "text/plain": [
              "<Figure size 640x480 with 1 Axes>"
            ],
            "image/png": "[encoded data removed]"
          },
          "metadata": {}
        }
      ],
      "source": [
        "import matplotlib.pyplot as plt\n",
        "import pandas\n",
        "# from sklearn.metrics import accuracy_score      # DON'T USE THIS FOR THE GROUP ACTIVITY; HOWEVER, YOU CAN USE IT FOR YOUR ASSIGNMENT.\n",
        "# from sklearn.metrics import mean_absolute_error # DON'T USE THIS FOR THE GROUP ACTIVITY; HOWEVER, YOU CAN USE IT FOR YOUR ASSIGNMENT.\n",
        "# from sklearn.metrics import mean_squared_error  # DON'T USE THIS FOR THE GROUP ACTIVITY; HOWEVER, YOU CAN USE IT FOR YOUR ASSIGNMENT.\n",
        "\n",
        "#reload the data\n",
        "data            = pd.read_csv('/content/drive/MyDrive/cs167_sp25/datasets/irisData.csv') #change this line to point to your data\n",
        "\n",
        "# cross-validation to create 'train' and 'test' partitions\n",
        "shuffled_data           = data.sample(frac=1, random_state = 41)\n",
        "number_of_test_samples  = 20\n",
        "test_data               = shuffled_data.iloc[0:number_of_test_samples] #test on the first 20 rows of shuffled\n",
        "train_data              = shuffled_data.iloc[number_of_test_samples:] #train on the rest\n",
        "\n",
        "# find the classification labels for all the samples in the test split using a series of k values\n",
        "k_vals          = [1,3,5,9,15,21,31,51,101,129]\n",
        "kNN_accuracies  = []\n",
        "\n",
        "for k in k_vals:\n",
        "    predictions       = classify_all_kNN(test_data,train_data,k)\n",
        "    #acc              = accuracy_score(test_data['species'],predictions)\n",
        "    acc               = calculate_accuracy(test_data['species'].reset_index(drop=True), predictions)\n",
        "    kNN_accuracies.append(acc)\n",
        "\n",
        "# plot the accuracy for each k-value to visualize the evolution of different parameter settings for k\n",
        "# Use your code snippet from last week\n",
        "plt.suptitle('Iris Data k-NN Experiment',fontsize=18)\n",
        "plt.xlabel('k')\n",
        "plt.ylabel('accuracy')\n",
        "plt.plot(k_vals,kNN_accuracies,'ro-',label='k-NN')\n",
        "plt.legend(loc='lower left', shadow=True)\n",
        "plt.axis([0,130,0,1])\n",
        "\n",
        "plt.show()"
      ]
    },
    {
      "cell_type": "markdown",
      "metadata": {
        "id": "JFtKNqXGIAEG"
      },
      "source": [
        "## 💬 Group Exercise:\n",
        "\n",
        "Write a function that takes in two Series and returns the Mean Absolute Error:\n",
        "\n",
        "__Mean Absolute Error (MAE)__: the average difference between the actual and predicted target values.\n",
        "\n",
        "<div>\n",
        "<img src=\"https://analytics.drake.edu/~reza/teaching/cs167_sp25/notes/images/day04_mae.png\", width=400/>\n",
        "</div>\n"
      ]
    },
    {
      "cell_type": "code",
      "execution_count": 5,
      "metadata": {
        "id": "3Xihx3KGIAEG",
        "outputId": "0496c3f4-788d-4e3e-c665-ed722a8a1c08",
        "colab": {
          "base_uri": "https://localhost:8080/"
        }
      },
      "outputs": [
        {
          "output_type": "execute_result",
          "data": {
            "text/plain": [
              "19"
            ]
          },
          "metadata": {},
          "execution_count": 5
        }
      ],
      "source": [
        "import numpy as np\n",
        "np.absolute(-19)"
      ]
    },
    {
      "cell_type": "code",
      "source": [
        "np.mean([1, 2, 3])"
      ],
      "metadata": {
        "colab": {
          "base_uri": "https://localhost:8080/"
        },
        "id": "HQCWXayVoDOv",
        "outputId": "69c8063c-8c1d-4698-bd3c-89dd261497d2"
      },
      "execution_count": 6,
      "outputs": [
        {
          "output_type": "execute_result",
          "data": {
            "text/plain": [
              "2.0"
            ]
          },
          "metadata": {},
          "execution_count": 6
        }
      ]
    },
    {
      "cell_type": "code",
      "execution_count": 7,
      "metadata": {
        "id": "uaFag2xsIAEG"
      },
      "outputs": [],
      "source": [
        "def calculate_mae(actual, predicted):\n",
        "    \"\"\"\n",
        "    takes in two Series of the same length, and returns the mean absolute error between the two series\n",
        "    Hint: It's a lot simpler than you may think.\n",
        "    \"\"\"\n",
        "    mean_abs_error = -1000\n",
        "    # your code here\n",
        "    # ...\n",
        "    # ...\n",
        "\n",
        "    return mean_abs_error\n"
      ]
    },
    {
      "cell_type": "markdown",
      "source": [
        "How can you test your code to make sure it's working correctly?\n",
        "> Test your mae implementation using the following snippet"
      ],
      "metadata": {
        "id": "6GjUeAPoAEn1"
      }
    },
    {
      "cell_type": "code",
      "source": [
        "\n",
        "actual      = pd.Series(data=[10, 20, 30, 40, 50])\n",
        "predicted   = pd.Series(data=[11, 22, 33, 44, 55])\n",
        "mae         = calculate_mae(actual, predicted)\n",
        "print(mae)"
      ],
      "metadata": {
        "colab": {
          "base_uri": "https://localhost:8080/"
        },
        "id": "V5a3zd958dBG",
        "outputId": "00ea6c54-3624-4a22-b38f-00cb52de4702"
      },
      "execution_count": 9,
      "outputs": [
        {
          "output_type": "stream",
          "name": "stdout",
          "text": [
            "3.0\n"
          ]
        }
      ]
    },
    {
      "cell_type": "markdown",
      "source": [
        "Now try to do kNN_regression using vehicle dataset"
      ],
      "metadata": {
        "id": "3FXYozUxAI9t"
      }
    },
    {
      "cell_type": "code",
      "source": [
        "vehicle = pd.read_csv('/content/drive/MyDrive/cs167_sp25/datasets/vehicles.csv')\n",
        "pd.set_option('display.max_columns', 100)\n",
        "#vehicle.head()\n",
        "# cleanup the vehicle data since it contains NaN\n",
        "subset_rows = vehicle[vehicle.fuelType == \"Regular\"]\n",
        "subset_data = subset_rows[['displ', 'cylinders', 'year', 'comb08']]\n",
        "clean_data = subset_data.copy()\n",
        "columns_with_any_na = subset_data.isna().any()\n",
        "column_names_with_na = columns_with_any_na.index\n",
        "for cur_column_name in column_names_with_na:\n",
        "  if columns_with_any_na[cur_column_name] == True:\n",
        "    avg_value = clean_data[cur_column_name].mean()\n",
        "    clean_data[cur_column_name].fillna(avg_value, inplace=True)\n",
        "print('clean_data.shape: ', clean_data.shape)\n",
        "data = clean_data\n",
        "data.head()"
      ],
      "metadata": {
        "colab": {
          "base_uri": "https://localhost:8080/",
          "height": 411
        },
        "id": "gk2VsR2xDid8",
        "outputId": "a8f871e8-8652-4c94-9032-fe201fe9de2a"
      },
      "execution_count": 10,
      "outputs": [
        {
          "output_type": "stream",
          "name": "stdout",
          "text": [
            "clean_data.shape:  (26863, 4)\n"
          ]
        },
        {
          "output_type": "stream",
          "name": "stderr",
          "text": [
            "<ipython-input-10-b23db7b1c85c>:1: DtypeWarning: Columns (70,71,72,73,74,76,79) have mixed types. Specify dtype option on import or set low_memory=False.\n",
            "  vehicle = pd.read_csv('/content/drive/MyDrive/cs167_sp25/datasets/vehicles.csv')\n",
            "<ipython-input-10-b23db7b1c85c>:13: FutureWarning: A value is trying to be set on a copy of a DataFrame or Series through chained assignment using an inplace method.\n",
            "The behavior will change in pandas 3.0. This inplace method will never work because the intermediate object on which we are setting values always behaves as a copy.\n",
            "\n",
            "For example, when doing 'df[col].method(value, inplace=True)', try using 'df.method({col: value}, inplace=True)' or df[col] = df[col].method(value) instead, to perform the operation inplace on the original object.\n",
            "\n",
            "\n",
            "  clean_data[cur_column_name].fillna(avg_value, inplace=True)\n"
          ]
        },
        {
          "output_type": "execute_result",
          "data": {
            "text/plain": [
              "   displ  cylinders  year  comb08\n",
              "0    2.0        4.0  1985      21\n",
              "1    4.9       12.0  1985      11\n",
              "2    2.2        4.0  1985      27\n",
              "3    5.2        8.0  1985      11\n",
              "5    1.8        4.0  1993      22"
            ],
            "text/html": [
              "\n",
              "  <div id=\"df-7b517e44-4cfc-4825-a66e-e1ce7401d534\" class=\"colab-df-container\">\n",
              "    <div>\n",
              "<style scoped>\n",
              "    .dataframe tbody tr th:only-of-type {\n",
              "        vertical-align: middle;\n",
              "    }\n",
              "\n",
              "    .dataframe tbody tr th {\n",
              "        vertical-align: top;\n",
              "    }\n",
              "\n",
              "    .dataframe thead th {\n",
              "        text-align: right;\n",
              "    }\n",
              "</style>\n",
              "<table border=\"1\" class=\"dataframe\">\n",
              "  <thead>\n",
              "    <tr style=\"text-align: right;\">\n",
              "      <th></th>\n",
              "      <th>displ</th>\n",
              "      <th>cylinders</th>\n",
              "      <th>year</th>\n",
              "      <th>comb08</th>\n",
              "    </tr>\n",
              "  </thead>\n",
              "  <tbody>\n",
              "    <tr>\n",
              "      <th>0</th>\n",
              "      <td>2.0</td>\n",
              "      <td>4.0</td>\n",
              "      <td>1985</td>\n",
              "      <td>21</td>\n",
              "    </tr>\n",
              "    <tr>\n",
              "      <th>1</th>\n",
              "      <td>4.9</td>\n",
              "      <td>12.0</td>\n",
              "      <td>1985</td>\n",
              "      <td>11</td>\n",
              "    </tr>\n",
              "    <tr>\n",
              "      <th>2</th>\n",
              "      <td>2.2</td>\n",
              "      <td>4.0</td>\n",
              "      <td>1985</td>\n",
              "      <td>27</td>\n",
              "    </tr>\n",
              "    <tr>\n",
              "      <th>3</th>\n",
              "      <td>5.2</td>\n",
              "      <td>8.0</td>\n",
              "      <td>1985</td>\n",
              "      <td>11</td>\n",
              "    </tr>\n",
              "    <tr>\n",
              "      <th>5</th>\n",
              "      <td>1.8</td>\n",
              "      <td>4.0</td>\n",
              "      <td>1993</td>\n",
              "      <td>22</td>\n",
              "    </tr>\n",
              "  </tbody>\n",
              "</table>\n",
              "</div>\n",
              "    <div class=\"colab-df-buttons\">\n",
              "\n",
              "  <div class=\"colab-df-container\">\n",
              "    <button class=\"colab-df-convert\" onclick=\"convertToInteractive('df-7b517e44-4cfc-4825-a66e-e1ce7401d534')\"\n",
              "            title=\"Convert this dataframe to an interactive table.\"\n",
              "            style=\"display:none;\">\n",
              "\n",
              "  <svg xmlns=\"http://www.w3.org/2000/svg\" height=\"24px\" viewBox=\"0 -960 960 960\">\n",
              "    <path d=\"M120-120v-720h720v720H120Zm60-500h600v-160H180v160Zm220 220h160v-160H400v160Zm0 220h160v-160H400v160ZM180-400h160v-160H180v160Zm440 0h160v-160H620v160ZM180-180h160v-160H180v160Zm440 0h160v-160H620v160Z\"/>\n",
              "  </svg>\n",
              "    </button>\n",
              "\n",
              "  <style>\n",
              "    .colab-df-container {\n",
              "      display:flex;\n",
              "      gap: 12px;\n",
              "    }\n",
              "\n",
              "    .colab-df-convert {\n",
              "      background-color: #E8F0FE;\n",
              "      border: none;\n",
              "      border-radius: 50%;\n",
              "      cursor: pointer;\n",
              "      display: none;\n",
              "      fill: #1967D2;\n",
              "      height: 32px;\n",
              "      padding: 0 0 0 0;\n",
              "      width: 32px;\n",
              "    }\n",
              "\n",
              "    .colab-df-convert:hover {\n",
              "      background-color: #E2EBFA;\n",
              "      box-shadow: 0px 1px 2px rgba(60, 64, 67, 0.3), 0px 1px 3px 1px rgba(60, 64, 67, 0.15);\n",
              "      fill: #174EA6;\n",
              "    }\n",
              "\n",
              "    .colab-df-buttons div {\n",
              "      margin-bottom: 4px;\n",
              "    }\n",
              "\n",
              "    [theme=dark] .colab-df-convert {\n",
              "      background-color: #3B4455;\n",
              "      fill: #D2E3FC;\n",
              "    }\n",
              "\n",
              "    [theme=dark] .colab-df-convert:hover {\n",
              "      background-color: #434B5C;\n",
              "      box-shadow: 0px 1px 3px 1px rgba(0, 0, 0, 0.15);\n",
              "      filter: drop-shadow(0px 1px 2px rgba(0, 0, 0, 0.3));\n",
              "      fill: #FFFFFF;\n",
              "    }\n",
              "  </style>\n",
              "\n",
              "    <script>\n",
              "      const buttonEl =\n",
              "        document.querySelector('#df-7b517e44-4cfc-4825-a66e-e1ce7401d534 button.colab-df-convert');\n",
              "      buttonEl.style.display =\n",
              "        google.colab.kernel.accessAllowed ? 'block' : 'none';\n",
              "\n",
              "      async function convertToInteractive(key) {\n",
              "        const element = document.querySelector('#df-7b517e44-4cfc-4825-a66e-e1ce7401d534');\n",
              "        const dataTable =\n",
              "          await google.colab.kernel.invokeFunction('convertToInteractive',\n",
              "                                                    [key], {});\n",
              "        if (!dataTable) return;\n",
              "\n",
              "        const docLinkHtml = 'Like what you see? Visit the ' +\n",
              "          '<a target=\"_blank\" href=https://colab.research.google.com/notebooks/data_table.ipynb>data table notebook</a>'\n",
              "          + ' to learn more about interactive tables.';\n",
              "        element.innerHTML = '';\n",
              "        dataTable['output_type'] = 'display_data';\n",
              "        await google.colab.output.renderOutput(dataTable, element);\n",
              "        const docLink = document.createElement('div');\n",
              "        docLink.innerHTML = docLinkHtml;\n",
              "        element.appendChild(docLink);\n",
              "      }\n",
              "    </script>\n",
              "  </div>\n",
              "\n",
              "\n",
              "<div id=\"df-1bcd57be-fded-457f-a14b-351f2807bbb7\">\n",
              "  <button class=\"colab-df-quickchart\" onclick=\"quickchart('df-1bcd57be-fded-457f-a14b-351f2807bbb7')\"\n",
              "            title=\"Suggest charts\"\n",
              "            style=\"display:none;\">\n",
              "\n",
              "<svg xmlns=\"http://www.w3.org/2000/svg\" height=\"24px\"viewBox=\"0 0 24 24\"\n",
              "     width=\"24px\">\n",
              "    <g>\n",
              "        <path d=\"M19 3H5c-1.1 0-2 .9-2 2v14c0 1.1.9 2 2 2h14c1.1 0 2-.9 2-2V5c0-1.1-.9-2-2-2zM9 17H7v-7h2v7zm4 0h-2V7h2v10zm4 0h-2v-4h2v4z\"/>\n",
              "    </g>\n",
              "</svg>\n",
              "  </button>\n",
              "\n",
              "<style>\n",
              "  .colab-df-quickchart {\n",
              "      --bg-color: #E8F0FE;\n",
              "      --fill-color: #1967D2;\n",
              "      --hover-bg-color: #E2EBFA;\n",
              "      --hover-fill-color: #174EA6;\n",
              "      --disabled-fill-color: #AAA;\n",
              "      --disabled-bg-color: #DDD;\n",
              "  }\n",
              "\n",
              "  [theme=dark] .colab-df-quickchart {\n",
              "      --bg-color: #3B4455;\n",
              "      --fill-color: #D2E3FC;\n",
              "      --hover-bg-color: #434B5C;\n",
              "      --hover-fill-color: #FFFFFF;\n",
              "      --disabled-bg-color: #3B4455;\n",
              "      --disabled-fill-color: #666;\n",
              "  }\n",
              "\n",
              "  .colab-df-quickchart {\n",
              "    background-color: var(--bg-color);\n",
              "    border: none;\n",
              "    border-radius: 50%;\n",
              "    cursor: pointer;\n",
              "    display: none;\n",
              "    fill: var(--fill-color);\n",
              "    height: 32px;\n",
              "    padding: 0;\n",
              "    width: 32px;\n",
              "  }\n",
              "\n",
              "  .colab-df-quickchart:hover {\n",
              "    background-color: var(--hover-bg-color);\n",
              "    box-shadow: 0 1px 2px rgba(60, 64, 67, 0.3), 0 1px 3px 1px rgba(60, 64, 67, 0.15);\n",
              "    fill: var(--button-hover-fill-color);\n",
              "  }\n",
              "\n",
              "  .colab-df-quickchart-complete:disabled,\n",
              "  .colab-df-quickchart-complete:disabled:hover {\n",
              "    background-color: var(--disabled-bg-color);\n",
              "    fill: var(--disabled-fill-color);\n",
              "    box-shadow: none;\n",
              "  }\n",
              "\n",
              "  .colab-df-spinner {\n",
              "    border: 2px solid var(--fill-color);\n",
              "    border-color: transparent;\n",
              "    border-bottom-color: var(--fill-color);\n",
              "    animation:\n",
              "      spin 1s steps(1) infinite;\n",
              "  }\n",
              "\n",
              "  @keyframes spin {\n",
              "    0% {\n",
              "      border-color: transparent;\n",
              "      border-bottom-color: var(--fill-color);\n",
              "      border-left-color: var(--fill-color);\n",
              "    }\n",
              "    20% {\n",
              "      border-color: transparent;\n",
              "      border-left-color: var(--fill-color);\n",
              "      border-top-color: var(--fill-color);\n",
              "    }\n",
              "    30% {\n",
              "      border-color: transparent;\n",
              "      border-left-color: var(--fill-color);\n",
              "      border-top-color: var(--fill-color);\n",
              "      border-right-color: var(--fill-color);\n",
              "    }\n",
              "    40% {\n",
              "      border-color: transparent;\n",
              "      border-right-color: var(--fill-color);\n",
              "      border-top-color: var(--fill-color);\n",
              "    }\n",
              "    60% {\n",
              "      border-color: transparent;\n",
              "      border-right-color: var(--fill-color);\n",
              "    }\n",
              "    80% {\n",
              "      border-color: transparent;\n",
              "      border-right-color: var(--fill-color);\n",
              "      border-bottom-color: var(--fill-color);\n",
              "    }\n",
              "    90% {\n",
              "      border-color: transparent;\n",
              "      border-bottom-color: var(--fill-color);\n",
              "    }\n",
              "  }\n",
              "</style>\n",
              "\n",
              "  <script>\n",
              "    async function quickchart(key) {\n",
              "      const quickchartButtonEl =\n",
              "        document.querySelector('#' + key + ' button');\n",
              "      quickchartButtonEl.disabled = true;  // To prevent multiple clicks.\n",
              "      quickchartButtonEl.classList.add('colab-df-spinner');\n",
              "      try {\n",
              "        const charts = await google.colab.kernel.invokeFunction(\n",
              "            'suggestCharts', [key], {});\n",
              "      } catch (error) {\n",
              "        console.error('Error during call to suggestCharts:', error);\n",
              "      }\n",
              "      quickchartButtonEl.classList.remove('colab-df-spinner');\n",
              "      quickchartButtonEl.classList.add('colab-df-quickchart-complete');\n",
              "    }\n",
              "    (() => {\n",
              "      let quickchartButtonEl =\n",
              "        document.querySelector('#df-1bcd57be-fded-457f-a14b-351f2807bbb7 button');\n",
              "      quickchartButtonEl.style.display =\n",
              "        google.colab.kernel.accessAllowed ? 'block' : 'none';\n",
              "    })();\n",
              "  </script>\n",
              "</div>\n",
              "\n",
              "    </div>\n",
              "  </div>\n"
            ],
            "application/vnd.google.colaboratory.intrinsic+json": {
              "type": "dataframe",
              "variable_name": "data",
              "summary": "{\n  \"name\": \"data\",\n  \"rows\": 26863,\n  \"fields\": [\n    {\n      \"column\": \"displ\",\n      \"properties\": {\n        \"dtype\": \"number\",\n        \"std\": 1.272449307911603,\n        \"min\": 1.0,\n        \"max\": 7.4,\n        \"num_unique_values\": 54,\n        \"samples\": [\n          4.3,\n          5.6,\n          6.8\n        ],\n        \"semantic_type\": \"\",\n        \"description\": \"\"\n      }\n    },\n    {\n      \"column\": \"cylinders\",\n      \"properties\": {\n        \"dtype\": \"number\",\n        \"std\": 1.5159002349065105,\n        \"min\": 2.0,\n        \"max\": 12.0,\n        \"num_unique_values\": 9,\n        \"samples\": [\n          5.369508562918838,\n          12.0,\n          3.0\n        ],\n        \"semantic_type\": \"\",\n        \"description\": \"\"\n      }\n    },\n    {\n      \"column\": \"year\",\n      \"properties\": {\n        \"dtype\": \"number\",\n        \"std\": 11,\n        \"min\": 1984,\n        \"max\": 2021,\n        \"num_unique_values\": 38,\n        \"samples\": [\n          2017,\n          2020,\n          1996\n        ],\n        \"semantic_type\": \"\",\n        \"description\": \"\"\n      }\n    },\n    {\n      \"column\": \"comb08\",\n      \"properties\": {\n        \"dtype\": \"number\",\n        \"std\": 5,\n        \"min\": 8,\n        \"max\": 58,\n        \"num_unique_values\": 47,\n        \"samples\": [\n          36,\n          42,\n          38\n        ],\n        \"semantic_type\": \"\",\n        \"description\": \"\"\n      }\n    }\n  ]\n}"
            }
          },
          "metadata": {},
          "execution_count": 10
        }
      ]
    },
    {
      "cell_type": "code",
      "source": [
        "def regress_kNN(new_example,train_data,k):\n",
        "    #getting a copy of the training set just so we don't\n",
        "    train_data_copy = train_data.copy()\n",
        "    train_data_copy['distance_to_new'] = np.sqrt(\n",
        "        (new_example['displ']-train_data_copy['displ'])**2\n",
        "        +(new_example['cylinders']-train_data_copy['cylinders'])**2\n",
        "        +(new_example['year']-train_data_copy['year'])**2)\n",
        "\n",
        "    sorted_data = train_data_copy.sort_values(['distance_to_new'])\n",
        "    #mode to get most common thing in the first k examples in the sorted dataframe\n",
        "    #iloc to get the actual string, mode will return the string inside of a pandas Series\n",
        "\n",
        "    # REZA NOTE: PLEASE TRY TO THINK WHAT NEEDS TO BE DONE IN ORDER CONVERT THIS EXISTING CLASSIFICATION TASK INTO A REGRESSION TASK\n",
        "    prediction = sorted_data.iloc[0:k]['comb08'].mode()[0]\n",
        "\n",
        "\n",
        "\n",
        "\n",
        "    return prediction"
      ],
      "metadata": {
        "id": "ZzdZddU4Agbt"
      },
      "execution_count": 14,
      "outputs": []
    },
    {
      "cell_type": "code",
      "source": [
        "def regress_all_kNN(test_data,train_data, k):\n",
        "    #apply the regress_kNN function to each item in the test data with the train\n",
        "    #data and k passed as the other two arguments. The result will be a series of\n",
        "    #the individual results.\n",
        "\n",
        "    results = []\n",
        "\n",
        "    for i in range(len(test_data)):\n",
        "        prediction = regress_kNN(test_data.iloc[i], train_data,k)\n",
        "        results.append(prediction)\n",
        "\n",
        "    return pd.Series(results)"
      ],
      "metadata": {
        "id": "dr0Ul0UyAu9E"
      },
      "execution_count": 16,
      "outputs": []
    },
    {
      "cell_type": "code",
      "source": [
        "# do the regression experiment on 'vehicle' dataset\n",
        "\n",
        "# step 1: cross-validation to create 'train' and 'test' partitions from vehicle\n",
        "shuffled_data           = data.sample(frac=1, random_state = 41)\n",
        "number_of_test_samples  = 20\n",
        "test_data               = shuffled_data.iloc[0:number_of_test_samples] #test on the first 20 rows of shuffled\n",
        "train_data              = shuffled_data.iloc[number_of_test_samples:] #train on the rest\n",
        "\n",
        "# step 2: find the classification labels for all the samples in the test split using a series of k values\n",
        "k_vals          = [1,3,5,9,15,21,31,51,101,129]\n",
        "kNN_maes        = []\n",
        "\n",
        "for k in k_vals:\n",
        "    test_predictions  = regress_all_kNN(test_data,train_data,k)\n",
        "    test_true_labels  = test_data['comb08'].reset_index(drop=True) # Reference: https://pandas.pydata.org/docs/reference/api/pandas.DataFrame.reset_index.html\n",
        "    mae               = calculate_mae(test_true_labels, test_predictions)\n",
        "    kNN_maes.append(mae)\n",
        "    print(\"mae=:\", mae)\n",
        "\n",
        "# step 3: plot the accuracy for each k-value to visualize the evolution of different parameter settings for k\n",
        "# copy the code snippet from plot section above and adjust it by using the correct list\n",
        "# your code here\n",
        "# ...\n",
        "# ...\n",
        "# ...\n",
        "\n",
        "\n",
        "#plt.axis([0,130,0,1]) # HEADS-UP: FIX THE CORRECT RANGE\n",
        "#plt.show()\n",
        "\n",
        "\n",
        "# plot the accuracy for each k-value to visualize the evolution of different parameter settings for k\n",
        "# Use your code snippet from last week\n",
        "\n"
      ],
      "metadata": {
        "id": "QcCMfU_8ACSM"
      },
      "execution_count": null,
      "outputs": []
    },
    {
      "cell_type": "markdown",
      "source": [
        "# **Please write down the names of your collaborators for this group activity.**"
      ],
      "metadata": {
        "id": "zmXfVbBkGmHA"
      }
    },
    {
      "cell_type": "markdown",
      "source": [],
      "metadata": {
        "id": "Uh4CZNS3wHTB"
      }
    }
  ],
  "metadata": {
    "celltoolbar": "Slideshow",
    "kernelspec": {
      "display_name": "Python 3",
      "language": "python",
      "name": "python3"
    },
    "language_info": {
      "codemirror_mode": {
        "name": "ipython",
        "version": 3
      },
      "file_extension": ".py",
      "mimetype": "text/x-python",
      "name": "python",
      "nbconvert_exporter": "python",
      "pygments_lexer": "ipython3",
      "version": "3.8.3"
    },
    "colab": {
      "provenance": [],
      "include_colab_link": true
    }
  },
  "nbformat": 4,
  "nbformat_minor": 0
}