{
  "nbformat": 4,
  "nbformat_minor": 0,
  "metadata": {
    "colab": {
      "provenance": [],
      "authorship_tag": "ABX9TyPAr7K2AAlFiLz3vj/K/0Sq",
      "include_colab_link": true
    },
    "kernelspec": {
      "name": "python3",
      "display_name": "Python 3"
    },
    "language_info": {
      "name": "python"
    }
  },
  "cells": [
    {
      "cell_type": "markdown",
      "metadata": {
        "id": "view-in-github",
        "colab_type": "text"
      },
      "source": [
        "<a href=\"https://colab.research.google.com/github/alimoorreza/CS167-sp25-notes/blob/main/Day27a_LLM_sentiment_classfication.ipynb\" target=\"_parent\"><img src=\"https://colab.research.google.com/assets/colab-badge.svg\" alt=\"Open In Colab\"/></a>"
      ]
    },
    {
      "cell_type": "markdown",
      "source": [
        "# CS167: Day27\n",
        "## Deep Learning and Large Language Models (LLMs)\n",
        "\n",
        "\n",
        "#### CS167: Machine Learning, Spring 2025\n",
        "\n",
        "\n",
        "📜 [Syllabus](https://analytics.drake.edu/~reza/teaching/cs167_sp25/cs167_syllabus_sp25.pdf)"
      ],
      "metadata": {
        "id": "x8_-W6VkYgR3"
      }
    },
    {
      "cell_type": "code",
      "execution_count": null,
      "metadata": {
        "colab": {
          "base_uri": "https://localhost:8080/"
        },
        "id": "n0CmiA-R3Tk7",
        "outputId": "b1bd4b3a-2e24-4c47-bead-9566efab15c1"
      },
      "outputs": [
        {
          "output_type": "stream",
          "name": "stdout",
          "text": [
            "Requirement already satisfied: transformers in /usr/local/lib/python3.10/dist-packages (4.46.2)\n",
            "Requirement already satisfied: filelock in /usr/local/lib/python3.10/dist-packages (from transformers) (3.16.1)\n",
            "Requirement already satisfied: huggingface-hub<1.0,>=0.23.2 in /usr/local/lib/python3.10/dist-packages (from transformers) (0.26.2)\n",
            "Requirement already satisfied: numpy>=1.17 in /usr/local/lib/python3.10/dist-packages (from transformers) (1.26.4)\n",
            "Requirement already satisfied: packaging>=20.0 in /usr/local/lib/python3.10/dist-packages (from transformers) (24.2)\n",
            "Requirement already satisfied: pyyaml>=5.1 in /usr/local/lib/python3.10/dist-packages (from transformers) (6.0.2)\n",
            "Requirement already satisfied: regex!=2019.12.17 in /usr/local/lib/python3.10/dist-packages (from transformers) (2024.9.11)\n",
            "Requirement already satisfied: requests in /usr/local/lib/python3.10/dist-packages (from transformers) (2.32.3)\n",
            "Requirement already satisfied: safetensors>=0.4.1 in /usr/local/lib/python3.10/dist-packages (from transformers) (0.4.5)\n",
            "Requirement already satisfied: tokenizers<0.21,>=0.20 in /usr/local/lib/python3.10/dist-packages (from transformers) (0.20.3)\n",
            "Requirement already satisfied: tqdm>=4.27 in /usr/local/lib/python3.10/dist-packages (from transformers) (4.66.6)\n",
            "Requirement already satisfied: fsspec>=2023.5.0 in /usr/local/lib/python3.10/dist-packages (from huggingface-hub<1.0,>=0.23.2->transformers) (2024.10.0)\n",
            "Requirement already satisfied: typing-extensions>=3.7.4.3 in /usr/local/lib/python3.10/dist-packages (from huggingface-hub<1.0,>=0.23.2->transformers) (4.12.2)\n",
            "Requirement already satisfied: charset-normalizer<4,>=2 in /usr/local/lib/python3.10/dist-packages (from requests->transformers) (3.4.0)\n",
            "Requirement already satisfied: idna<4,>=2.5 in /usr/local/lib/python3.10/dist-packages (from requests->transformers) (3.10)\n",
            "Requirement already satisfied: urllib3<3,>=1.21.1 in /usr/local/lib/python3.10/dist-packages (from requests->transformers) (2.2.3)\n",
            "Requirement already satisfied: certifi>=2017.4.17 in /usr/local/lib/python3.10/dist-packages (from requests->transformers) (2024.8.30)\n"
          ]
        }
      ],
      "source": [
        "!pip install transformers"
      ]
    },
    {
      "cell_type": "markdown",
      "source": [
        "#Sentiment Analysis Model using Transformer-based large language model (LLM)\n",
        ">**many-to-one** mapping machine learning task:\n",
        "<div>\n",
        "<img src=\"https://analytics.drake.edu/~reza/teaching/cs167_sp25/notes/images/many_to_one_ML_task.png?raw=1\" width=200/>\n",
        "</div>"
      ],
      "metadata": {
        "id": "oRTe6v-v5l9j"
      }
    },
    {
      "cell_type": "code",
      "source": [
        "from transformers import pipeline\n",
        "sentiment_nlp_model = pipeline(\"sentiment-analysis\")\n",
        "# By default, the LLM for sentiment analysis is DistilBERT: distilbert-base-uncased-finetuned-sst-2-english\n",
        "\n",
        "input_sentences = [\"Professor X loves machine learning\", \"Professor X hates operating system\", \"Professor X is talking and talking\"]\n",
        "\n",
        "for ii in range(len(input_sentences)):\n",
        "  result = sentiment_nlp_model(input_sentences[ii])[0]\n",
        "  print(f'sentiment for \\'{input_sentences[ii]}\\' is: {result}')"
      ],
      "metadata": {
        "colab": {
          "base_uri": "https://localhost:8080/"
        },
        "id": "9Hc5LKqp36rt",
        "outputId": "8c125089-74fc-4b75-d271-e5527e4a0c6b"
      },
      "execution_count": null,
      "outputs": [
        {
          "output_type": "stream",
          "name": "stderr",
          "text": [
            "No model was supplied, defaulted to distilbert/distilbert-base-uncased-finetuned-sst-2-english and revision 714eb0f (https://huggingface.co/distilbert/distilbert-base-uncased-finetuned-sst-2-english).\n",
            "Using a pipeline without specifying a model name and revision in production is not recommended.\n"
          ]
        },
        {
          "output_type": "stream",
          "name": "stdout",
          "text": [
            "sentiment for 'Professor X loves machine learning' is: {'label': 'POSITIVE', 'score': 0.9985872507095337}\n",
            "sentiment for 'Professor X hates operating system' is: {'label': 'NEGATIVE', 'score': 0.9990214109420776}\n",
            "sentiment for 'Professor X is talking and talking' is: {'label': 'POSITIVE', 'score': 0.9979986548423767}\n"
          ]
        }
      ]
    },
    {
      "cell_type": "markdown",
      "source": [
        "# __Group Activty#1__\n",
        "1. Create at least four new sentences using the following format:\n",
        "\n",
        "|                 | Sentiment Type      \n",
        "|-----------------|-----------------\n",
        "| Sentence#1      | +ve sentiment  \n",
        "| Sentence#2      | -ve sentiment      \n",
        "| Sentence#3      | +ve sentiment   \n",
        "| Sentence#4      | -ve sentiment\n",
        "| Sentence#5      | +ve sentiment      \n",
        "| Sentence#6      | -ve sentiment   \n",
        "| Sentence#7      | -ve sentiment\n",
        "\n",
        "For example, my sentences could be inserted as Sentence #1 to Sentence #3 in the table below as follows:\n",
        "\n",
        "|                                    | Sentiment Type      \n",
        "|------------------------------------|-----------------\n",
        "| \"Professor X loves machine learning\"      | +ve sentiment  \n",
        "| \"Professor X hates operating system\"      | -ve sentiment      \n",
        "| \"Professor X is talking and talking\".     | +ve sentiment   \n",
        "| ?                                         | -ve sentiment\n",
        "| ?                                         | +ve sentiment\n",
        "| ?                                         | -ve sentiment\n",
        "| ?                                         | +ve sentiment\n",
        "\n",
        "2. Try out the __DistilBERT__ pre-trained model on these additional input sentences.\n",
        "3. Report the accuracy of your sentences."
      ],
      "metadata": {
        "id": "Mrv2_JXk8gpX"
      }
    },
    {
      "cell_type": "code",
      "source": [
        "# your code below\n",
        "# ..."
      ],
      "metadata": {
        "id": "Y3MtCg3G-hXJ"
      },
      "execution_count": null,
      "outputs": []
    }
  ]
}