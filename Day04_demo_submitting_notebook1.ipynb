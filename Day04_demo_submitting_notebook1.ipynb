{
  "nbformat": 4,
  "nbformat_minor": 0,
  "metadata": {
    "colab": {
      "provenance": [],
      "authorship_tag": "ABX9TyOAj/KsBUT4HDH+gqfQ+0NS",
      "include_colab_link": true
    },
    "kernelspec": {
      "name": "python3",
      "display_name": "Python 3"
    },
    "language_info": {
      "name": "python"
    }
  },
  "cells": [
    {
      "cell_type": "markdown",
      "metadata": {
        "id": "view-in-github",
        "colab_type": "text"
      },
      "source": [
        "<a href=\"https://colab.research.google.com/github/alimoorreza/CS167-sp25-notes/blob/main/Day04_demo_submitting_notebook1.ipynb\" target=\"_parent\"><img src=\"https://colab.research.google.com/assets/colab-badge.svg\" alt=\"Open In Colab\"/></a>"
      ]
    },
    {
      "cell_type": "markdown",
      "source": [
        "# Notebook #1: Python, Pandas and Pokemon, Oh My!\n",
        "\n",
        "I give you starter code, `notebook1_starter.ipynb`, please use it.\n",
        "There are 6 exercises, each worth 1 point.\n",
        "\n",
        "The dataset for this notebook can be found on Blackboard.\n",
        "\n",
        "[Link to Notebook #1](https://github.com/alimoorreza/CS167-sp25-Notebook-1)\n"
      ],
      "metadata": {
        "id": "Pd8OLJj_ovwC"
      }
    },
    {
      "cell_type": "markdown",
      "source": [
        "## Step #1: Complete Notebook #1 in Colab\n",
        "\n",
        "[use this link for Notebook #1 repository](https://github.com/alimoorreza/CS167-sp25-Notebook-1)\n",
        "- you can still open the `Notebook1_starter.ipynb` in Colab and make edits in Colab.\n",
        "\n",
        "I would, however, encourage you to use the 'Save a copy in Drive' option to save your code."
      ],
      "metadata": {
        "id": "0IcINy68o108"
      }
    },
    {
      "cell_type": "markdown",
      "source": [
        "## Step #2: Download your code\n",
        "\n",
        "While in Colab, go to 'File --> Download --> Notebook (.ipynb)'\n",
        "\n",
        "<div>\n",
        "<img src=\"https://analytics.drake.edu/~reza/teaching/cs167_sp25/notes/images/day03_download.png\"/ width=600>\n",
        "</div>"
      ],
      "metadata": {
        "id": "s7prUC2ko4r4"
      }
    },
    {
      "cell_type": "markdown",
      "source": [
        "## Step #3: Submit to Blackboard\n",
        "\n"
      ],
      "metadata": {
        "id": "4LWY1KHWo7GV"
      }
    }
  ]
}