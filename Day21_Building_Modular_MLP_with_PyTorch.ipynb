{
  "cells": [
    {
      "cell_type": "markdown",
      "metadata": {
        "id": "view-in-github",
        "colab_type": "text"
      },
      "source": [
        "<a href=\"https://colab.research.google.com/github/alimoorreza/CS167-sp25-notes/blob/main/Day21_Building_Modular_MLP_with_PyTorch.ipynb\" target=\"_parent\"><img src=\"https://colab.research.google.com/assets/colab-badge.svg\" alt=\"Open In Colab\"/></a>"
      ]
    },
    {
      "cell_type": "markdown",
      "metadata": {
        "id": "HHJrUI0I4uVJ"
      },
      "source": [
        "# CS167: Day21\n",
        "\n",
        "## Building Modular MLP using PyTorch\n",
        "\n",
        "#### CS167: Machine Learning, Spring 2025\n",
        "\n",
        "\n",
        "📜 [Syllabus](https://analytics.drake.edu/~reza/teaching/cs167_sp25/cs167_syllabus_sp25.pdf)"
      ]
    },
    {
      "cell_type": "code",
      "source": [
        "from google.colab import drive\n",
        "drive.mount('/content/drive')"
      ],
      "metadata": {
        "colab": {
          "base_uri": "https://localhost:8080/"
        },
        "id": "2uOuh6vYJpeR",
        "outputId": "dba810b5-2abd-4c04-a6ad-eb6b6103e7b8"
      },
      "execution_count": 1,
      "outputs": [
        {
          "output_type": "stream",
          "name": "stdout",
          "text": [
            "Mounted at /content/drive\n"
          ]
        }
      ]
    },
    {
      "cell_type": "markdown",
      "source": [
        "## __Put the Model on Training Device (GPU or CPU)__\n",
        "We want to accelerate the training process using graphical processing unit (GPU). Fortunately, in Colab we can access for GPU. You need to enable it from _Runtime-->Change runtime type-->GPU or TPU_"
      ],
      "metadata": {
        "id": "OpvuEwrzrVe8"
      }
    },
    {
      "cell_type": "code",
      "source": [
        "# check to see if torch.cuda is available, otherwise it will use CPU\n",
        "import torch\n",
        "import torch.nn as nn\n",
        "import numpy as np\n",
        "device = (\n",
        "    \"cuda\"\n",
        "    if torch.cuda.is_available()\n",
        "    else \"cpu\"\n",
        ")\n",
        "print(f\"Using {device} device\")\n"
      ],
      "metadata": {
        "colab": {
          "base_uri": "https://localhost:8080/"
        },
        "id": "jFa7eTujrik7",
        "outputId": "0ca5f418-d366-44a4-8f5a-739f94999812"
      },
      "execution_count": null,
      "outputs": [
        {
          "output_type": "stream",
          "name": "stdout",
          "text": [
            "Using cuda device\n"
          ]
        }
      ]
    },
    {
      "cell_type": "code",
      "source": [
        "import torchvision\n",
        "import torchvision.datasets as datasets"
      ],
      "metadata": {
        "id": "wGQOjdZLYYRe"
      },
      "execution_count": null,
      "outputs": []
    },
    {
      "cell_type": "markdown",
      "source": [
        "#__Building Modular Code for Multilayer Perceptron (MLP)__\n",
        "\n",
        "<div>\n",
        "<img src=\"https://analytics.drake.edu/~reza/teaching/cs167_sp25/notes/images/mlp_network1.png\" width=800/>\n",
        "</div>\n",
        "\n",
        "A multilayer perceptron is the simplest type of neural network. It consists of perceptrons (aka nodes, neurons) arranged in layers.\n",
        "Create a network class with two methods:\n",
        "- _init()_\n",
        "- _forward()_\n"
      ],
      "metadata": {
        "id": "q4pTsgDsTEiw"
      }
    },
    {
      "cell_type": "code",
      "source": [
        "import torch\n",
        "from torch import nn\n",
        "\n",
        "# You can give any name to your new network, e.g., SimpleMLP.\n",
        "# However, you have to mandatorily inherit from nn.Module to\n",
        "# create your own network class. That way, you can access a lot of\n",
        "# useful methods and attributes from the parent class nn.Module\n",
        "\n",
        "class SimpleMLP(nn.Module):\n",
        "  def __init__(self):\n",
        "    super().__init__()\n",
        "    # your network layer construction should take place here\n",
        "    # ...\n",
        "    # ...\n",
        "\n",
        "  def forward(self, x):\n",
        "    # your code for MLP forward pass should take place here\n",
        "    # ...\n",
        "    # ...\n",
        "    return x"
      ],
      "metadata": {
        "id": "9DxGu6AUTW10"
      },
      "execution_count": null,
      "outputs": []
    },
    {
      "cell_type": "markdown",
      "source": [
        "Let's create the MLP as shown in the picture above using this template. In general, we will follow this template for constructing other neural networks such as CNN, RNN, and Transformer in PyTorch. Hence, it is a very generic setup. Here are the useful PyTorch modules we will be using for MLP construction:\n",
        "- [nn.Linear()](https://pytorch.org/docs/stable/generated/torch.nn.Linear.html#torch.nn.Linear)\n",
        "  - creates the dense connections (corresponding to the weigts of edges) between two adjacent layers (_left layer_ and _right layer_)\n",
        "  - just provide __#neurons_left_layer__ and __#neurons_right_layer__\n",
        "- [nn.Sigmoid()](https://pytorch.org/docs/stable/generated/torch.nn.Sigmoid.html#sigmoid)\n",
        "- [nn.ReLU()](https://pytorch.org/docs/stable/generated/torch.nn.ReLU.html#relu)\n",
        "- [nn.Softmax()](https://pytorch.org/docs/stable/generated/torch.nn.Softmax.html#softmax)"
      ],
      "metadata": {
        "id": "ww0jFonlZh4U"
      }
    },
    {
      "cell_type": "code",
      "source": [
        "import torch\n",
        "from torch import nn\n",
        "import pdb\n",
        "\n",
        "class SimpleMLPv1(nn.Module):\n",
        "  def __init__(self):\n",
        "    super().__init__()\n",
        "    # your network layer construction should take place here\n",
        "\n",
        "    num_of_neurons_input_layer      = 784\n",
        "    num_of_neurons_1st_hidden_layer = 256\n",
        "    num_of_neurons_output_layer     = 10 # usually this number should be equal to the total number of classes in your classification task\n",
        "\n",
        "    '''\n",
        "    self.first_hidden_layer         = nn.Linear(num_of_neurons_input_layer, num_of_neurons_1st_hidden_layer)  # linear transformation module (input=784, output=256)\n",
        "    self.relu_activation_h1         = nn.ReLU()\n",
        "    self.output_layer               = nn.Linear(num_of_neurons_1st_hidden_layer, num_of_neurons_output_layer) # linear transformation module (input=256, output=10)\n",
        "\n",
        "    '''\n",
        "    self.first_hidden_layer         = nn.Linear(784, 256)  # linear transformation module (input=784, output=256)\n",
        "    self.relu_activation_h1         = nn.ReLU()\n",
        "    self.output_layer               = nn.Linear(256, 10) # linear transformation module (input=256, output=10)\n",
        "\n",
        "\n",
        "  def forward(self, x):\n",
        "    # your code for MLP forward pass should take place here\n",
        "    output = self.first_hidden_layer(x)\n",
        "    output = self.relu_activation_h1(output)\n",
        "    print('1st-hidden layer feature map shape: ', output.shape)\n",
        "    output = self.output_layer(output)\n",
        "    print('Output layer feature map shape: ', output.shape)\n",
        "    #output = self.softmax_activation(output)\n",
        "\n",
        "    return output\n"
      ],
      "metadata": {
        "id": "QT4lcLVQaUNn"
      },
      "execution_count": null,
      "outputs": []
    },
    {
      "cell_type": "code",
      "source": [
        "import torch\n",
        "from torch import nn\n",
        "import pdb\n",
        "\n",
        "class SimpleMLPv2(nn.Module):\n",
        "  def __init__(self):\n",
        "    super().__init__()\n",
        "    # your network layer construction should take place here\n",
        "\n",
        "    num_of_neurons_input_layer      = 784\n",
        "    num_of_neurons_1st_hidden_layer = 512\n",
        "    num_of_neurons_2nd_hidden_layer = 256\n",
        "    num_of_neurons_output_layer     = 10 # usually this number should be equal to the total number of classes in your classification task\n",
        "\n",
        "    self.first_hidden_layer         = nn.Linear(num_of_neurons_input_layer, num_of_neurons_1st_hidden_layer)  # linear transformation module (input=784, output=512)\n",
        "    self.relu_activation_h1         = nn.ReLU()\n",
        "    self.second_hidden_layer        = nn.Linear(num_of_neurons_1st_hidden_layer, num_of_neurons_2nd_hidden_layer)  # linear transformation module (input=512, output=256)\n",
        "    self.relu_activation_h2         = nn.ReLU()\n",
        "    self.output_layer               = nn.Linear(num_of_neurons_2nd_hidden_layer, num_of_neurons_output_layer) # linear transformation module (input=256, output=10)\n",
        "\n",
        "\n",
        "  def forward(self, x):\n",
        "    # your code for MLP forward pass should take place here\n",
        "    output = self.first_hidden_layer(x)\n",
        "    output = self.relu_activation_h1(output)\n",
        "    print('1nd-hidden layer feature map shape: ', output.shape)\n",
        "    output = self.second_hidden_layer(output)\n",
        "    output = self.relu_activation_h2(output)\n",
        "    print('2nd-hidden layer feature map shape: ', output.shape)\n",
        "    output = self.output_layer(output)\n",
        "    print('Output layer feature map shape: ', output.shape)\n",
        "    #output = self.softmax_activation(output)\n",
        "\n",
        "    return output\n"
      ],
      "metadata": {
        "id": "HNuxDcIFYjY6"
      },
      "execution_count": null,
      "outputs": []
    },
    {
      "cell_type": "code",
      "source": [
        "# check the structure of your MLP\n",
        "mlp_model = SimpleMLPv2()\n",
        "print(mlp_model)"
      ],
      "metadata": {
        "colab": {
          "base_uri": "https://localhost:8080/"
        },
        "id": "ZlwRblRgmVlv",
        "outputId": "8f0ae59b-e7ee-49c0-ab92-3de442eb358b"
      },
      "execution_count": null,
      "outputs": [
        {
          "output_type": "stream",
          "name": "stdout",
          "text": [
            "SimpleMLPv2(\n",
            "  (first_hidden_layer): Linear(in_features=784, out_features=512, bias=True)\n",
            "  (relu_activation_h1): ReLU()\n",
            "  (second_hidden_layer): Linear(in_features=512, out_features=256, bias=True)\n",
            "  (relu_activation_h2): ReLU()\n",
            "  (output_layer): Linear(in_features=256, out_features=10, bias=True)\n",
            ")\n"
          ]
        }
      ]
    },
    {
      "cell_type": "code",
      "source": [
        "# check the sizes of weights and biases of your MLP's 1st hidden layers\n",
        "print('size of weights of first_hidden_layer: \\n ', mlp_model.first_hidden_layer.weight.shape)\n",
        "print('size of bias of first_hidden_layer: \\n ', mlp_model.first_hidden_layer.bias.shape)"
      ],
      "metadata": {
        "colab": {
          "base_uri": "https://localhost:8080/"
        },
        "id": "5q0AlCh4vcDh",
        "outputId": "69b2bd93-9390-4321-ee54-1e31c012de85"
      },
      "execution_count": null,
      "outputs": [
        {
          "output_type": "stream",
          "name": "stdout",
          "text": [
            "size of weights of first_hidden_layer: \n",
            "  torch.Size([512, 784])\n",
            "size of bias of first_hidden_layer: \n",
            "  torch.Size([512])\n"
          ]
        }
      ]
    },
    {
      "cell_type": "code",
      "source": [
        "# check the randomly initialized values of weights and biases of your MLP's 1st hidden layers\n",
        "print('weights of first_hidden_layer: \\n ', mlp_model.first_hidden_layer.weight)\n",
        "print('bias of first_hidden_layer: \\n ', mlp_model.first_hidden_layer.bias)"
      ],
      "metadata": {
        "id": "8-WYre5Fu5qZ",
        "colab": {
          "base_uri": "https://localhost:8080/"
        },
        "collapsed": true,
        "outputId": "9688f3b7-cf57-405c-882e-2bf5d8b511e6"
      },
      "execution_count": null,
      "outputs": [
        {
          "output_type": "stream",
          "name": "stdout",
          "text": [
            "weights of first_hidden_layer: \n",
            "  Parameter containing:\n",
            "tensor([[-0.0034, -0.0061,  0.0213,  ...,  0.0098, -0.0013,  0.0308],\n",
            "        [-0.0213, -0.0212, -0.0162,  ...,  0.0162,  0.0229, -0.0257],\n",
            "        [ 0.0032,  0.0260,  0.0259,  ..., -0.0031,  0.0290,  0.0104],\n",
            "        ...,\n",
            "        [-0.0311, -0.0341,  0.0188,  ...,  0.0190, -0.0099, -0.0012],\n",
            "        [ 0.0234, -0.0057,  0.0058,  ..., -0.0063,  0.0123, -0.0075],\n",
            "        [-0.0335,  0.0023, -0.0155,  ..., -0.0102, -0.0118,  0.0142]],\n",
            "       requires_grad=True)\n",
            "bias of first_hidden_layer: \n",
            "  Parameter containing:\n",
            "tensor([-2.7028e-02,  1.0388e-02,  3.1506e-02, -9.5702e-03, -3.3818e-02,\n",
            "        -1.9989e-02, -1.4686e-02,  1.1712e-02, -3.3961e-02, -1.9212e-02,\n",
            "         6.6752e-03, -3.4083e-02,  1.3235e-02, -2.5457e-02,  1.6576e-02,\n",
            "        -2.8066e-02,  2.3712e-02,  1.5450e-02, -4.6118e-03,  8.2208e-03,\n",
            "         2.0218e-02,  9.1747e-03,  2.4252e-02, -3.7291e-03,  6.7897e-03,\n",
            "        -1.8057e-02, -5.5668e-03,  2.0207e-02, -2.5562e-02,  1.8839e-02,\n",
            "         1.7364e-02, -9.6901e-03,  7.4290e-03, -2.3196e-02,  3.2294e-02,\n",
            "         2.2623e-02, -1.4011e-02,  1.5939e-02, -4.8707e-03,  9.4190e-03,\n",
            "        -2.4079e-02,  2.5829e-02,  6.2474e-04,  3.3456e-02, -3.3923e-02,\n",
            "         2.0795e-02, -2.6183e-02,  2.9735e-02, -1.2298e-02, -3.5121e-02,\n",
            "        -2.3269e-02, -1.4586e-02, -3.4869e-02, -2.8489e-02, -1.0133e-02,\n",
            "         2.1880e-02,  2.7287e-02,  1.1894e-02, -1.1915e-02,  1.8563e-02,\n",
            "        -3.0348e-03,  3.5141e-02, -5.1300e-03, -2.5590e-02,  9.1542e-03,\n",
            "        -2.2060e-02, -1.6224e-02, -1.6647e-03,  5.3386e-03, -2.1134e-02,\n",
            "        -1.5399e-02, -1.0214e-02,  7.0935e-03, -8.5528e-03, -1.0781e-02,\n",
            "        -2.0305e-02,  1.5255e-02,  1.0432e-02,  2.5449e-03,  1.4558e-02,\n",
            "         2.0308e-02, -2.3813e-02, -3.1489e-02,  2.3878e-02, -3.1941e-02,\n",
            "        -3.2176e-02, -1.3181e-02,  2.3618e-02, -2.7563e-03, -8.4402e-03,\n",
            "        -2.5862e-02, -3.1202e-02, -2.3507e-02, -5.7395e-03, -2.7979e-02,\n",
            "        -3.3818e-03, -8.7412e-03, -1.0860e-02, -2.7412e-02,  3.3440e-02,\n",
            "         1.6827e-02,  2.5620e-02,  2.9447e-02, -3.3938e-02,  2.2904e-03,\n",
            "        -2.8434e-03,  8.0658e-03,  2.9173e-02,  3.3266e-03, -3.3802e-02,\n",
            "        -3.0365e-03,  8.3236e-03,  1.4936e-02, -2.6367e-02,  2.3242e-02,\n",
            "         2.4047e-02, -5.2277e-03, -7.0424e-03,  4.9088e-03,  2.0018e-02,\n",
            "        -1.6107e-02, -3.6810e-03,  7.3050e-03,  7.2202e-03, -2.6757e-02,\n",
            "        -2.4901e-02,  2.5058e-02,  3.2810e-02,  2.5514e-02,  1.5213e-02,\n",
            "         2.8670e-02, -1.6778e-02, -1.0619e-02,  6.3116e-03,  2.5125e-02,\n",
            "         1.5897e-02,  3.1749e-02, -3.1658e-02,  3.0497e-02,  2.0037e-02,\n",
            "         1.4525e-02,  1.5411e-02,  3.0625e-02, -3.3007e-02,  1.5033e-02,\n",
            "         2.8908e-02,  5.3276e-03, -2.8325e-02,  1.6321e-02, -1.9784e-02,\n",
            "        -3.0528e-02,  1.1275e-02,  2.6258e-03,  1.4595e-02,  1.9454e-02,\n",
            "        -1.3780e-02, -3.1294e-02,  3.1504e-02,  2.6973e-02,  2.3169e-02,\n",
            "         8.4525e-03, -2.6455e-02, -3.5042e-02, -7.1957e-03, -1.8960e-02,\n",
            "        -1.1569e-03,  2.0775e-02,  1.9049e-02, -9.3179e-03, -2.1478e-02,\n",
            "        -1.5481e-02, -3.5594e-02,  6.9012e-03, -1.5732e-02,  5.6174e-03,\n",
            "        -2.8978e-02,  8.1718e-03, -1.5649e-02, -2.4226e-02,  2.8857e-02,\n",
            "         2.3089e-02, -5.3482e-03, -3.2074e-02,  1.8427e-02, -3.0244e-02,\n",
            "         2.2950e-02, -2.0733e-02,  2.0510e-03, -2.1760e-03,  6.3331e-04,\n",
            "        -2.9051e-02,  2.2496e-02, -3.3954e-03, -6.1975e-03, -1.1647e-02,\n",
            "        -5.0780e-03, -3.1977e-02, -4.5377e-03, -4.3026e-03,  2.3303e-03,\n",
            "         5.4473e-03,  1.9733e-02,  9.7816e-03,  2.6622e-02,  1.3783e-02,\n",
            "        -3.4453e-02,  7.3233e-03,  3.3059e-02,  1.7565e-04, -4.6013e-03,\n",
            "        -3.0496e-02,  2.9379e-02,  2.6535e-02,  2.6384e-02, -2.9313e-02,\n",
            "         1.4535e-02,  3.3571e-02, -2.1586e-02,  3.4302e-02,  2.0131e-02,\n",
            "        -2.2438e-02,  5.2072e-03,  5.2680e-03, -1.2305e-02, -2.1211e-02,\n",
            "        -8.7895e-04,  7.0680e-03,  1.1898e-02, -9.6886e-03,  4.5993e-03,\n",
            "        -3.2432e-02,  5.1835e-03, -1.3089e-02,  2.9945e-02, -2.8561e-02,\n",
            "         2.3510e-03,  1.4799e-02, -9.8833e-03,  2.0367e-02, -7.1985e-04,\n",
            "         2.6792e-02, -1.2641e-02, -2.0316e-02, -1.5748e-02, -6.9434e-03,\n",
            "        -2.7472e-02, -6.6967e-03, -3.5504e-02,  1.9228e-03,  2.7838e-02,\n",
            "        -3.8748e-04,  3.3190e-02, -4.9531e-03,  1.3106e-03, -2.4213e-02,\n",
            "         2.9162e-03,  2.6792e-02,  2.1371e-02, -8.0252e-03,  1.1598e-02,\n",
            "         1.8105e-02, -3.4677e-02, -2.6648e-02,  3.5547e-02,  2.0095e-02,\n",
            "         3.5681e-02, -3.3658e-02,  2.9944e-02,  7.0052e-03,  2.2382e-03,\n",
            "         2.2390e-02,  2.2385e-02,  3.0647e-02,  2.2890e-02, -1.7546e-02,\n",
            "         8.8671e-03,  2.6530e-02,  2.6604e-02, -9.5941e-03,  6.6402e-03,\n",
            "        -2.0587e-02,  8.0527e-03, -1.3291e-03,  1.2401e-02,  1.4666e-02,\n",
            "         1.9042e-02, -2.9259e-02,  4.4770e-04,  3.1713e-02,  1.6283e-02,\n",
            "        -2.0427e-02,  2.6438e-02,  1.9593e-02,  2.8836e-03, -9.8472e-03,\n",
            "         2.0340e-02,  3.2626e-02, -3.1920e-02,  1.4956e-02,  1.4567e-02,\n",
            "        -1.3402e-02,  1.0302e-02,  3.5375e-02, -2.5356e-02,  4.2598e-03,\n",
            "        -5.0793e-03, -1.8398e-02, -7.1804e-03, -2.3414e-02,  4.6868e-03,\n",
            "        -1.9218e-02,  2.1582e-02,  3.1207e-02, -2.8785e-02, -3.7311e-03,\n",
            "        -3.1328e-02,  2.9690e-02,  3.5465e-02,  2.3869e-02, -1.2717e-02,\n",
            "         3.3331e-02, -3.1845e-02,  2.6571e-03,  1.6986e-02,  2.3135e-02,\n",
            "        -1.3630e-02,  1.4003e-02,  2.9793e-02,  1.0711e-02,  1.0468e-02,\n",
            "         1.1347e-02,  9.8690e-03, -3.6865e-05,  1.2585e-02, -3.5638e-03,\n",
            "         2.7495e-02,  2.8676e-02,  3.2441e-02, -1.1256e-02, -3.1516e-02,\n",
            "        -1.0848e-02, -1.5873e-02, -1.9036e-02, -6.9823e-03,  3.5076e-02,\n",
            "         2.5002e-02,  2.1174e-02,  6.7821e-03,  3.1032e-02,  2.4497e-02,\n",
            "        -1.1395e-02, -1.3748e-02,  3.5473e-02,  2.6415e-02, -2.3960e-03,\n",
            "        -7.6872e-03,  1.8982e-02, -2.1409e-02,  2.3680e-02,  2.2107e-02,\n",
            "        -8.9155e-03,  1.1586e-03,  1.0374e-02, -9.7020e-03, -2.9717e-02,\n",
            "        -2.3474e-02,  3.4935e-02, -1.6006e-03,  2.6245e-02,  2.1232e-02,\n",
            "         3.2256e-02, -1.7291e-02,  8.1828e-03, -2.3647e-04,  8.8851e-03,\n",
            "        -3.3670e-03, -7.3440e-03,  2.7295e-02,  1.6536e-03,  1.2790e-02,\n",
            "         3.0700e-02, -3.3537e-02, -8.6164e-03,  1.9254e-02,  3.4575e-02,\n",
            "         4.8208e-03,  2.9036e-02,  7.2597e-03, -8.0593e-03, -1.4539e-02,\n",
            "         1.6625e-02,  1.2857e-02, -1.7177e-02,  2.7048e-02, -2.7225e-02,\n",
            "         9.4716e-04, -2.8672e-02,  9.1124e-03,  2.7032e-02, -3.2784e-02,\n",
            "        -1.3146e-02,  2.5371e-02, -5.1440e-03,  3.2025e-02,  3.2604e-02,\n",
            "        -6.4585e-03,  4.1757e-03, -2.0817e-02,  3.4932e-02,  3.3363e-02,\n",
            "        -1.9856e-02,  1.3039e-02, -2.9982e-02, -2.1532e-02,  3.2941e-02,\n",
            "        -2.6142e-03, -1.0840e-02,  1.1869e-02,  2.6681e-02, -2.6796e-02,\n",
            "         1.1460e-03,  3.7459e-03,  3.0249e-02,  1.5960e-02, -3.3949e-02,\n",
            "        -2.9526e-02,  1.0720e-02,  1.8439e-02,  1.3957e-04,  2.9514e-02,\n",
            "         1.2396e-04,  1.9485e-02, -9.5106e-03, -1.5499e-03,  3.4898e-02,\n",
            "         1.8024e-02,  1.8093e-03, -2.6015e-02,  8.8224e-03,  3.3388e-02,\n",
            "        -8.7079e-03, -1.3648e-02,  1.3254e-02,  2.2356e-02,  1.4474e-02,\n",
            "        -1.7450e-02, -1.3958e-02, -3.4164e-02, -7.6262e-04, -1.7764e-02,\n",
            "        -1.8457e-02, -1.9315e-03,  1.6000e-02, -2.7312e-02, -1.3979e-02,\n",
            "         3.2925e-02, -3.4533e-02,  1.3948e-02, -7.8182e-03, -2.8301e-02,\n",
            "         1.5071e-02, -2.3299e-02, -2.2942e-02, -1.9823e-02,  3.0071e-02,\n",
            "        -8.3566e-03,  1.9487e-02,  7.0118e-03,  2.9980e-02, -1.7982e-02,\n",
            "        -5.5839e-03,  2.3638e-02, -2.7961e-02, -3.1735e-02, -2.3489e-02,\n",
            "        -5.6408e-03,  3.1738e-02,  2.4609e-02, -1.9773e-02, -1.3380e-02,\n",
            "        -1.6583e-02,  2.9494e-02, -2.7074e-02, -3.4438e-02, -1.4208e-02,\n",
            "        -3.0596e-02, -2.4622e-02, -1.0736e-02, -2.3330e-03, -1.4244e-02,\n",
            "        -3.3879e-02, -1.1277e-03,  1.3670e-02, -1.9188e-02, -2.1857e-02,\n",
            "        -3.0585e-02,  1.7074e-02, -2.1873e-02, -1.3878e-03,  4.9422e-03,\n",
            "        -2.5206e-02,  2.5501e-02, -2.4835e-03,  1.4670e-03, -9.7339e-03,\n",
            "        -2.7801e-02,  3.2632e-03,  7.2172e-04, -1.8817e-02,  2.8139e-02,\n",
            "        -2.8742e-02,  2.8964e-02], requires_grad=True)\n"
          ]
        }
      ]
    },
    {
      "cell_type": "code",
      "source": [
        "# check the sizes of weights and biases of your MLP's 2nd hidden layer\n",
        "print('size of weights of second_hidden_layer: \\n ', mlp_model.second_hidden_layer.weight.shape)\n",
        "print('size of bias of second_hidden_layer: \\n ', mlp_model.second_hidden_layer.bias.shape)"
      ],
      "metadata": {
        "colab": {
          "base_uri": "https://localhost:8080/"
        },
        "id": "eNDQja9Zv6To",
        "outputId": "8a511a4a-4e44-4078-e031-b8a32bb3bd36"
      },
      "execution_count": null,
      "outputs": [
        {
          "output_type": "stream",
          "name": "stdout",
          "text": [
            "size of weights of second_hidden_layer: \n",
            "  torch.Size([256, 512])\n",
            "size of bias of second_hidden_layer: \n",
            "  torch.Size([256])\n"
          ]
        }
      ]
    },
    {
      "cell_type": "code",
      "source": [
        "print(f\"{mlp_model}\")"
      ],
      "metadata": {
        "colab": {
          "base_uri": "https://localhost:8080/"
        },
        "id": "FjNqZvq9gl2Q",
        "outputId": "58f04e5d-b308-474e-95b7-992b8dc6a21d"
      },
      "execution_count": null,
      "outputs": [
        {
          "output_type": "stream",
          "name": "stdout",
          "text": [
            "SimpleMLPv2(\n",
            "  (first_hidden_layer): Linear(in_features=784, out_features=512, bias=True)\n",
            "  (relu_activation_h1): ReLU()\n",
            "  (second_hidden_layer): Linear(in_features=512, out_features=256, bias=True)\n",
            "  (relu_activation_h2): ReLU()\n",
            "  (output_layer): Linear(in_features=256, out_features=10, bias=True)\n",
            ")\n"
          ]
        }
      ]
    },
    {
      "cell_type": "markdown",
      "source": [
        "#__Load the Dataset for your MLP__"
      ],
      "metadata": {
        "id": "2yy5gwTelaGL"
      }
    },
    {
      "cell_type": "markdown",
      "source": [
        "We can easily import some [built-in datasets](https://pytorch.org/vision/stable/datasets.html) from PyTorch's [torchvision.datasets](torchvision.datasets) module\n",
        "- [Fashion-MNIST](https://github.com/zalandoresearch/fashion-mnist)\n",
        "  - each image size: 28x28 grayscale image\n",
        "  - each image is associated with a label from __10 classes__\n",
        "  - training set of 60,000 examples and a test set of 10,000 examples\n",
        "\n",
        "<div>\n",
        "<img src=\"https://analytics.drake.edu/~reza/teaching/cs167_sp25/notes/images/fashion-mnist-sprite.png\" width=500/>\n",
        "</div>\n"
      ],
      "metadata": {
        "id": "was3XRLnzI45"
      }
    },
    {
      "cell_type": "code",
      "source": [
        "from google.colab import drive\n",
        "drive.mount('/content/drive')"
      ],
      "metadata": {
        "colab": {
          "base_uri": "https://localhost:8080/"
        },
        "id": "K5JadE0WHaCA",
        "outputId": "87a83442-0727-4542-eaa7-17e213f480d0"
      },
      "execution_count": null,
      "outputs": [
        {
          "output_type": "stream",
          "name": "stdout",
          "text": [
            "Mounted at /content/drive\n"
          ]
        }
      ]
    },
    {
      "cell_type": "code",
      "source": [
        "import torch\n",
        "from torch.utils.data import Dataset\n",
        "import torchvision\n",
        "# torchvision has many deep learning benchmark datasets Fashion-MNIST, CIFAR-10, Caltech-50, etc\n",
        "import torchvision.datasets as datasets\n",
        "from torchvision.transforms import ToTensor\n",
        "import matplotlib.pyplot as plt\n",
        "\n",
        "\n",
        "training_data = datasets.FashionMNIST(\n",
        "    root=\"/content/drive/MyDrive/cs167_sp25/datasets\", # headsup! You can replace this path so that it points to a directory in your Google Drive\n",
        "    train=True,\n",
        "    download=True,\n",
        "    transform=ToTensor() # specify the feature and label transformations\n",
        ")\n",
        "\n",
        "test_data = datasets.FashionMNIST(\n",
        "    root=\"/content/drive/MyDrive/cs167_sp25/datasets\", # headsup! You can replace this path so that it points to a directory in your Google Drive\n",
        "    train=False,\n",
        "    download=True,\n",
        "    transform=ToTensor()\n",
        ")\n"
      ],
      "metadata": {
        "id": "ngXlX8e1xbE1"
      },
      "execution_count": null,
      "outputs": []
    },
    {
      "cell_type": "markdown",
      "source": [
        "__Explore some sample training images__"
      ],
      "metadata": {
        "id": "D4X_HhpDJbis"
      }
    },
    {
      "cell_type": "code",
      "source": [
        "labels_map = {\n",
        "    0: \"T-Shirt\",\n",
        "    1: \"Trouser\",\n",
        "    2: \"Pullover\",\n",
        "    3: \"Dress\",\n",
        "    4: \"Coat\",\n",
        "    5: \"Sandal\",\n",
        "    6: \"Shirt\",\n",
        "    7: \"Sneaker\",\n",
        "    8: \"Bag\",\n",
        "    9: \"Ankle Boot\",\n",
        "}\n",
        "#image, label = training_data[10000]\n",
        "#image, label = training_data[20000]\n",
        "image, label = training_data[50000] # training samples are saved in pairs/tuples of (image, label)\n",
        "print('sample image size: ', image.shape)\n",
        "print('label of the sample image: ', labels_map[label])"
      ],
      "metadata": {
        "colab": {
          "base_uri": "https://localhost:8080/"
        },
        "id": "ZJ9bx4xgJg6c",
        "outputId": "0e6f6742-0cef-4862-b965-6810b998b736"
      },
      "execution_count": null,
      "outputs": [
        {
          "output_type": "stream",
          "name": "stdout",
          "text": [
            "sample image size:  torch.Size([1, 28, 28])\n",
            "label of the sample image:  Ankle Boot\n"
          ]
        }
      ]
    },
    {
      "cell_type": "code",
      "source": [
        "# Visualize a random set of images and their the labels from the training split\n",
        "# The following labels represent 10 classes, each with specific indices as defined by the creator of the Fashion-MNIST dataset\n",
        "# reference: https://github.com/zalandoresearch/fashion-mnist#labels\n",
        "torch.manual_seed(1)\n",
        "labels_map = {\n",
        "    0: \"T-Shirt\",\n",
        "    1: \"Trouser\",\n",
        "    2: \"Pullover\",\n",
        "    3: \"Dress\",\n",
        "    4: \"Coat\",\n",
        "    5: \"Sandal\",\n",
        "    6: \"Shirt\",\n",
        "    7: \"Sneaker\",\n",
        "    8: \"Bag\",\n",
        "    9: \"Ankle Boot\",\n",
        "}\n",
        "figure = plt.figure(figsize=(5, 5))\n",
        "cols, rows = 5, 2\n",
        "for i in range(1, cols * rows + 1):\n",
        "    sample_idx = torch.randint(len(training_data), size=(1,)).item()\n",
        "    img, label = training_data[sample_idx]\n",
        "    figure.add_subplot(rows, cols, i)\n",
        "    plt.title(labels_map[label])\n",
        "    plt.axis(\"off\")\n",
        "    #print('image tensor size:', img.shape)\n",
        "    plt.imshow(img.squeeze(), cmap=\"gray\") # .squeeze() method removes the '1' from first dimension of the tensor [1, 28, 28]\n",
        "    #print('after removing the first dimension with ', img.squeeze().shape)\n",
        "plt.show()"
      ],
      "metadata": {
        "colab": {
          "base_uri": "https://localhost:8080/",
          "height": 336
        },
        "id": "wWlgSqhLJCHX",
        "outputId": "721d95fb-9951-4247-9444-f6b63f03578d"
      },
      "execution_count": null,
      "outputs": [
        {
          "output_type": "display_data",
          "data": {
            "text/plain": [
              "<Figure size 500x500 with 10 Axes>"
            ],
            "image/png": "[encoded data removed]"
          },
          "metadata": {}
        }
      ]
    },
    {
      "cell_type": "markdown",
      "source": [
        "##__Prepare Your Data with DataLoader for Training/Testing__\n",
        "We just explored one sample of data at a time. As we have seen in our discussion of the optimizer, specifically __Stochastic Gradient Descent (SGD)__, during training your network, we may need to pass them in __minibatches__. PyTorch has a module called __DataLoader__, which will do this automatically for us as long as we provide the right arguments:\n",
        "- prepare the __minibatches__ with the given _batch_size_ eg 16, 32, 64, 128, etc\n",
        "- multiprocessing to speed up the data retrieval\n",
        "- reshuffle the data at every __epoch__\n"
      ],
      "metadata": {
        "id": "C2ZArXcKLLUs"
      }
    },
    {
      "cell_type": "code",
      "source": [
        "from torch.utils.data import DataLoader\n",
        "#                             pairs of items,    minibatch size,        random shuffling turned ON\n",
        "train_dataloader = DataLoader(training_data,     batch_size=128,        shuffle=True)\n",
        "test_dataloader  = DataLoader(test_data,         batch_size=128,        shuffle=False) # for testing/inference: it is not necessary to shuffle\n"
      ],
      "metadata": {
        "id": "2_Ygg2YOMtUW"
      },
      "execution_count": null,
      "outputs": []
    },
    {
      "cell_type": "code",
      "source": [
        "# explore the data from the train_dataloader\n",
        "train_inputs, train_labels = next(iter(train_dataloader)) # returns a batch of 128 train-images and train-labels\n",
        "print(f\"Images batch shape: {train_inputs.shape}\")\n",
        "print(f\"Labels batch shape: {train_labels.shape}\")\n",
        "\n",
        "# visualize one of the samples in this batch of 128\n",
        "figure = plt.figure(figsize=(2, 2))\n",
        "img = train_inputs[127].squeeze() # I picked 127 but you can pick any index in between 0 to batch_size=128\n",
        "label = train_labels[127]         # It's a tensor datatype\n",
        "plt.title(labels_map[int(label)]) # For indexing, convert the 'tensor' datatype --> integer number datatype\n",
        "plt.imshow(img, cmap=\"gray\")\n",
        "plt.show()\n",
        "print(f\"Label: {label}\")"
      ],
      "metadata": {
        "colab": {
          "base_uri": "https://localhost:8080/",
          "height": 293
        },
        "id": "Vgo6d23KS__O",
        "outputId": "6b1fe6e2-4264-4acd-c0f0-931ffbe81d7c"
      },
      "execution_count": null,
      "outputs": [
        {
          "output_type": "stream",
          "name": "stdout",
          "text": [
            "Images batch shape: torch.Size([128, 1, 28, 28])\n",
            "Labels batch shape: torch.Size([128])\n"
          ]
        },
        {
          "output_type": "display_data",
          "data": {
            "text/plain": [
              "<Figure size 200x200 with 1 Axes>"
            ],
            "image/png": "[encoded data removed]"
          },
          "metadata": {}
        },
        {
          "output_type": "stream",
          "name": "stdout",
          "text": [
            "Label: 0\n"
          ]
        }
      ]
    },
    {
      "cell_type": "markdown",
      "source": [
        "#__Forward Pass using your Dataset and your MLP__\n",
        "Test a forward pass of our MLP using one of the training samples. You need to convert a matrix of numbers into a contiguous vector using the following PyTorch module:\n",
        "- [nn.flatten()](https://pytorch.org/docs/stable/generated/torch.nn.Flatten.html)\n",
        "\n",
        "The forward method inside our network class, __SimpleMLPv2__, will be invoked if we provide an input tensor __'X'__ to the network object we instantiated earlier, i.e., __mlp_model__, as follows:\n",
        "- _output = mlp_model(X)_\n",
        "\n",
        "Finally, we convert the ouput from the model into probabilities using __Softmax()__ module:\n",
        "- _pred_probab = softmax_activation(output)_\n",
        "\n"
      ],
      "metadata": {
        "id": "HGToEDVFl9rQ"
      }
    },
    {
      "cell_type": "code",
      "source": [
        "img   = train_inputs[100]                 # I picked the sample at the 100-th but you can pick any index in between 0 to batch_size=128\n",
        "label = train_labels[100]\n",
        "\n",
        "softmax_activation = nn.Softmax(dim=0)\n",
        "\n",
        "X           = img.flatten()               # convert a matrix of numbers into a contiguous vector using the following PyTorch module\n",
        "print('shape of X: ', X.shape)\n",
        "\n",
        "# data and model should be placed to the same device (either GPU or CPU)\n",
        "X           = X.to(device)                # sending the data tensor to GPU (if available)\n",
        "mlp_model.to(device)                      # sending the model to GPU (if available) print(f\"device {device} and model: \\n {mlp_model}\")\n",
        "output      = mlp_model(X)                # last layer of our network will return 10 values each will range in between in [-infty, infty]\n",
        "pred_probab = softmax_activation(output)  # these raw numbers scaled to values [0, 1] representing the model’s predicted probabilities for each class\n",
        "\n",
        "\n",
        "print('predited probability \\n', pred_probab)\n",
        "y_pred      = pred_probab.argmax()\n",
        "print(f\"Predicted class: {y_pred}\")\n"
      ],
      "metadata": {
        "colab": {
          "base_uri": "https://localhost:8080/"
        },
        "id": "7OQed_nsazcw",
        "outputId": "7683f1a0-9814-49a6-a397-69868f5c233f"
      },
      "execution_count": null,
      "outputs": [
        {
          "output_type": "stream",
          "name": "stdout",
          "text": [
            "shape of X:  torch.Size([784])\n",
            "1nd-hidden layer feature map shape:  torch.Size([512])\n",
            "2nd-hidden layer feature map shape:  torch.Size([256])\n",
            "Output layer feature map shape:  torch.Size([10])\n",
            "predited probability \n",
            " tensor([0.0889, 0.0932, 0.0941, 0.1064, 0.1017, 0.0904, 0.0991, 0.1154, 0.1038,\n",
            "        0.1069], device='cuda:0', grad_fn=<SoftmaxBackward0>)\n",
            "Predicted class: 7\n"
          ]
        }
      ]
    },
    {
      "cell_type": "code",
      "source": [
        "# model parameter counts to find out how many parameter this model will learn from the data\n",
        "for name, param in mlp_model.named_parameters():\n",
        "    print(f\"Layer: {name} | Size: {param.size()} \\n\")\n"
      ],
      "metadata": {
        "colab": {
          "base_uri": "https://localhost:8080/"
        },
        "id": "XCqis2b5kU8A",
        "outputId": "2ff0d228-7a2a-4d51-d000-ee27c412f4a2"
      },
      "execution_count": null,
      "outputs": [
        {
          "output_type": "stream",
          "name": "stdout",
          "text": [
            "Layer: first_hidden_layer.weight | Size: torch.Size([512, 784]) \n",
            "\n",
            "Layer: first_hidden_layer.bias | Size: torch.Size([512]) \n",
            "\n",
            "Layer: second_hidden_layer.weight | Size: torch.Size([256, 512]) \n",
            "\n",
            "Layer: second_hidden_layer.bias | Size: torch.Size([256]) \n",
            "\n",
            "Layer: output_layer.weight | Size: torch.Size([10, 256]) \n",
            "\n",
            "Layer: output_layer.bias | Size: torch.Size([10]) \n",
            "\n"
          ]
        }
      ]
    },
    {
      "cell_type": "markdown",
      "source": [
        "##__Defining Loss function__\n",
        "\n",
        "- [nn.CrossEntropyLoss()](https://pytorch.org/docs/stable/generated/torch.nn.CrossEntropyLoss.html#torch.nn.CrossEntropyLoss)\n",
        "  - useful when training a __classification problem__ with __C__ classes.\n",
        "  - criterion computes the cross entropy loss between input logits and target\n",
        "- [nn.MSELoss()](https://pytorch.org/docs/stable/generated/torch.nn.MSELoss.html#torch.nn.MSELoss)\n",
        "  - useful when training a __regression problem__\n",
        "  - criterion that measures the mean squared error (squared L2 norm) between each element in the input _x_ and target _y_\n"
      ],
      "metadata": {
        "id": "f1gTfGDJm-2Z"
      }
    },
    {
      "cell_type": "code",
      "source": [
        "# initialize the loss function\n",
        "loss_fn = nn.CrossEntropyLoss() # this is useful for multiclass classification task"
      ],
      "metadata": {
        "id": "OK1bAAANnLMz"
      },
      "execution_count": null,
      "outputs": []
    },
    {
      "cell_type": "markdown",
      "source": [
        "##__Initializing the Optimizer__\n",
        "\n",
        "Optimiztaion, as we have discussed earlier, is process of adjusting model parameters to reduce model error in each training step. PyTorch provides a selection of optimization algorithms in the [torch.optim](https://pytorch.org/docs/stable/optim.html) package. Some of them are as follows:\n",
        "- [torch.optim.SGD](https://pytorch.org/docs/stable/generated/torch.optim.SGD.html#torch.optim.SGD)\n",
        "- [torch.optim..Adam](https://pytorch.org/docs/stable/generated/torch.optim.Adam.html#torch.optim.Adam)\n",
        "- [torch.optim.RMSprop](https://pytorch.org/docs/stable/generated/torch.optim.RMSprop.html#torch.optim.RMSprop)\n",
        "\n",
        "In addition to selecting the optimizer, we can also select the hyperparameters which are refered to as adjustable parameters crucial for controlling the model optimization process. You can influence the training and convergence of the model by tweaking these hyperparameters:\n",
        "- __epochs:__ denotes the number of iterations over the dataset\n",
        "- __batch size:__ represents the quantity of data samples in each iteration propagated through the network before updating the parameters\n",
        "- __learning rate:__ determines the extent of parameter updates made at each batch/epoch\n",
        "\n"
      ],
      "metadata": {
        "id": "J6Mwh6U1mGev"
      }
    },
    {
      "cell_type": "code",
      "source": [
        "learning_rate = 1e-3\n",
        "batch_size    = 128 # If the total sample size is N, setting batch_size=128 will divide the data into N÷128 mini-batches of tensors\n",
        "epochs        = 10\n",
        "# let's use SGD optimization algorithm for training our model\n",
        "optimizer     = torch.optim.SGD(mlp_model.parameters(), lr=learning_rate)"
      ],
      "metadata": {
        "id": "11-Lj-avlzFo"
      },
      "execution_count": null,
      "outputs": []
    },
    {
      "cell_type": "markdown",
      "source": [
        "__Let's Simplify Our Networks with PyTorch's Sequential() Module__"
      ],
      "metadata": {
        "id": "pIDHTABd4wU1"
      }
    },
    {
      "cell_type": "code",
      "source": [
        "import torch\n",
        "from torch import nn\n",
        "import pdb\n",
        "\n",
        "class SimpleMLPv1(nn.Module):\n",
        "  def __init__(self):\n",
        "    super().__init__()\n",
        "    # your network layer construction should take place here\n",
        "\n",
        "    num_of_neurons_input_layer      = 784\n",
        "    num_of_neurons_1st_hidden_layer = 256\n",
        "    num_of_neurons_output_layer     = 10 # usually this number should be equal to the total number of classes in your classification task\n",
        "\n",
        "    self.flatten = nn.Flatten()\n",
        "    self.linear_layers = nn.Sequential(\n",
        "            nn.Linear(num_of_neurons_input_layer, num_of_neurons_1st_hidden_layer),       # linear transformation module (input=784, output=256)\n",
        "            nn.ReLU(),\n",
        "            nn.Linear(num_of_neurons_1st_hidden_layer, num_of_neurons_1st_hidden_layer),  # linear transformation module (input=512, output=256)\n",
        "            nn.ReLU(),\n",
        "            nn.Linear(num_of_neurons_1st_hidden_layer, num_of_neurons_output_layer)       # linear transformation module (input=256, output=10)\n",
        "        )\n",
        "\n",
        "  def forward(self, x):\n",
        "    # your code for MLP forward pass should take place here\n",
        "    output = self.flatten(x)\n",
        "    output = self.linear_layers(output)\n",
        "    return output\n",
        "\n",
        "mlp_modelv1 = SimpleMLPv1()"
      ],
      "metadata": {
        "id": "EM6MC2gr4FA5"
      },
      "execution_count": null,
      "outputs": []
    },
    {
      "cell_type": "code",
      "source": [
        "class SimpleMLPv2(nn.Module):\n",
        "  def __init__(self):\n",
        "    super().__init__()\n",
        "    # your network layer construction should take place here\n",
        "\n",
        "    num_of_neurons_input_layer      = 784\n",
        "    num_of_neurons_1st_hidden_layer = 512\n",
        "    num_of_neurons_2nd_hidden_layer = 256\n",
        "    num_of_neurons_output_layer     = 10 # usually this number should be equal to the total number of classes in your classification task\n",
        "\n",
        "    self.flatten = nn.Flatten()\n",
        "    self.linear_layers = nn.Sequential(\n",
        "            nn.Linear(num_of_neurons_input_layer, num_of_neurons_1st_hidden_layer),       # linear transformation module (input=28*28, output=512)\n",
        "            nn.ReLU(),\n",
        "            nn.Linear(num_of_neurons_1st_hidden_layer, num_of_neurons_2nd_hidden_layer),  # linear transformation module (input=512, output=256)\n",
        "            nn.ReLU(),\n",
        "            nn.Linear(num_of_neurons_2nd_hidden_layer, num_of_neurons_output_layer)       # linear transformation module (input=256, output=10)\n",
        "        )\n",
        "\n",
        "  def forward(self, x):\n",
        "    # your code for MLP forward pass should take place here\n",
        "    output = self.flatten(x)\n",
        "    output = self.linear_layers(output)\n",
        "    return output\n",
        "\n",
        "mlp_modelv2 = SimpleMLPv2()"
      ],
      "metadata": {
        "id": "wVX1rUrGw2za"
      },
      "execution_count": null,
      "outputs": []
    },
    {
      "cell_type": "markdown",
      "source": [
        "#__Putting Everything Together MLP__"
      ],
      "metadata": {
        "id": "Z7yBVqvGmQM1"
      }
    },
    {
      "cell_type": "markdown",
      "source": [
        "__Putting Everything Together using our SimpleMLPv2 Network on Fashion-MNIST Dataset__\n"
      ],
      "metadata": {
        "id": "Xn0KYm8r1i1i"
      }
    },
    {
      "cell_type": "code",
      "source": [
        "# Step 1: load the Torch library and other utilities\n",
        "#----------------------------------------------------\n",
        "\n",
        "import torch\n",
        "from torch import nn\n",
        "from torch.utils.data import DataLoader\n",
        "from torchvision import datasets\n",
        "from torchvision.transforms import ToTensor\n",
        "import time\n",
        "\n",
        "# Step 2: load the dataset, ie, we are experimenting with Fashion-MNIST\n",
        "#--------------------------------------------------------------------------------------------------\n",
        "\n",
        "\n",
        "training_data = datasets.FashionMNIST(\n",
        "    root=\"/content/drive/MyDrive/cs167_sp25/datasets\", # headsup! You can replace this path so that it points to a directory in your Google Drive\n",
        "    train=True,\n",
        "    download=True,\n",
        "    transform=ToTensor() # specify the feature and label transformations\n",
        ")\n",
        "\n",
        "test_data = datasets.FashionMNIST(\n",
        "    root=\"/content/drive/MyDrive/cs167_sp25/datasets\", # headsup! You can replace this path so that it points to a directory in your Google Drive\n",
        "    train=False,\n",
        "    download=True,\n",
        "    transform=ToTensor()\n",
        ")\n",
        "\n",
        "\n",
        "# Step 3: Create your MLP Network (call it SimpleMLPv3) with 3 hidden layers\n",
        "#--------------------------------------------------------------------------------------------------\n",
        "\n",
        "class SimpleMLPv2(nn.Module):\n",
        "  def __init__(self):\n",
        "    super().__init__()\n",
        "    # your network layer construction should take place here\n",
        "\n",
        "    num_of_neurons_input_layer      = 784\n",
        "    num_of_neurons_1st_hidden_layer = 512\n",
        "    num_of_neurons_2nd_hidden_layer = 256\n",
        "    num_of_neurons_output_layer     = 10 # usually this number should be equal to the total number of classes in your classification task\n",
        "\n",
        "    self.flatten = nn.Flatten()\n",
        "    self.linear_layers = nn.Sequential(\n",
        "            nn.Linear(num_of_neurons_input_layer, num_of_neurons_1st_hidden_layer),       # linear transformation module (input=28*28, output=512)\n",
        "            nn.ReLU(),\n",
        "            nn.Linear(num_of_neurons_1st_hidden_layer, num_of_neurons_2nd_hidden_layer),  # linear transformation module (input=512, output=256)\n",
        "            nn.ReLU(),\n",
        "            nn.Linear(num_of_neurons_2nd_hidden_layer, num_of_neurons_output_layer)       # linear transformation module (input=256, output=10)\n",
        "        )\n",
        "\n",
        "  def forward(self, x):\n",
        "    # your code for MLP forward pass should take place here\n",
        "    output = self.flatten(x)\n",
        "    output = self.linear_layers(output)\n",
        "    return output\n",
        "\n",
        "\n",
        "# Step 4: Your training and testing functions (you can copy it from the previous demo)\n",
        "#--------------------------------------------------------------------------------------\n",
        "\n",
        "\n",
        "def train_loop(dataloader, model, loss_fn, optimizer):\n",
        "\n",
        "    size = len(dataloader.dataset)\n",
        "\n",
        "    model.train()                   # set the model to training mode for best practices\n",
        "\n",
        "    train_loss = 0\n",
        "\n",
        "    for batch, (X, y) in enumerate(dataloader):\n",
        "\n",
        "        # compute prediction and loss\n",
        "        X = X.to(device)                  # send data to the GPU device (if available)\n",
        "        y = y.to(device)\n",
        "        pred = model(X)\n",
        "        loss = loss_fn(pred, y)\n",
        "\n",
        "        # Backpropagation\n",
        "        loss.backward()\n",
        "        optimizer.step()\n",
        "        optimizer.zero_grad()\n",
        "\n",
        "        train_loss += loss.item()\n",
        "\n",
        "        if batch % 100 == 0:\n",
        "            loss, current = loss.item(), (batch + 1) * len(X)\n",
        "            print(f\"loss: {loss:>7f}  [{current:>5d}/{size:>5d}]\")\n",
        "\n",
        "    return train_loss/len(dataloader)\n",
        "\n",
        "def test_loop(dataloader, model, loss_fn):\n",
        "\n",
        "    model.eval()                    # set the model to evaluation mode for best practices\n",
        "\n",
        "    size        = len(dataloader.dataset)\n",
        "    num_batches = len(dataloader)\n",
        "    test_loss, correct = 0, 0\n",
        "\n",
        "    # Evaluating the model with torch.no_grad() ensures that no gradients are computed during test mode\n",
        "    # also serves to reduce unnecessary gradient computations and memory usage for tensors with requires_grad=True\n",
        "    with torch.no_grad():\n",
        "        for X, y in dataloader:\n",
        "\n",
        "            X = X.to(device)                     # send data to the GPU device (if available)\n",
        "            y = y.to(device)\n",
        "            pred = model(X)\n",
        "            test_loss += loss_fn(pred, y).item()\n",
        "            correct += (pred.argmax(1) == y).type(torch.float).sum().item()\n",
        "\n",
        "    test_loss /= num_batches\n",
        "    correct /= size\n",
        "    print(f\"Test Error: \\n Accuracy: {(100*correct):>0.1f}%, Avg loss: {test_loss:>8f} \\n\")\n",
        "    return test_loss\n",
        "\n",
        "# Step 5: prepare the DataLoader and select your optimizer and set the hyper-parameters for learning the model from DataLoader\n",
        "#------------------------------------------------------------------------------------------------------------------------------\n",
        "\n",
        "mlp_modelv2 = SimpleMLPv2()\n",
        "mlp_modelv2.to(device)\n",
        "learning_rate = 1e-3\n",
        "batch_size_val = 64\n",
        "epochs = 10\n",
        "loss_fn = nn.CrossEntropyLoss()\n",
        "optimizer = torch.optim.SGD(mlp_modelv2.parameters(), lr=learning_rate)\n",
        "\n",
        "train_dataloader = DataLoader(training_data, batch_size=batch_size_val)\n",
        "test_dataloader = DataLoader(test_data, batch_size=batch_size_val)\n",
        "\n",
        "\n",
        "train_losses = []\n",
        "test_losses  = []\n",
        "start_time   = time.time()\n",
        "for t in range(epochs):\n",
        "    print(f\"Epoch {t+1}\\n-------------------------------\")\n",
        "    avg_train_loss = train_loop(train_dataloader, mlp_modelv2, loss_fn, optimizer)\n",
        "    avg_test_loss  = test_loop(test_dataloader, mlp_modelv2, loss_fn)\n",
        "    train_losses.append(avg_train_loss)\n",
        "    test_losses.append(avg_test_loss)\n",
        "\n",
        "print(\"Total fine-tuning time: %.3f sec\" %( (time.time()-start_time)) )\n",
        "print(\"Total fine-tuning time: %.3f hrs\" %( (time.time()-start_time)/3600) )\n",
        "\n",
        "print(\"SimpleMLPv2 model has been trained!\")\n"
      ],
      "metadata": {
        "colab": {
          "base_uri": "https://localhost:8080/"
        },
        "id": "TE6r3j-71vjK",
        "outputId": "5cbf0ee2-619d-49c9-f3a4-d665bad49411"
      },
      "execution_count": null,
      "outputs": [
        {
          "output_type": "stream",
          "name": "stdout",
          "text": [
            "Epoch 1\n",
            "-------------------------------\n",
            "loss: 2.315019  [   64/60000]\n",
            "loss: 2.298708  [ 6464/60000]\n",
            "loss: 2.284799  [12864/60000]\n",
            "loss: 2.276890  [19264/60000]\n",
            "loss: 2.263560  [25664/60000]\n",
            "loss: 2.234084  [32064/60000]\n",
            "loss: 2.247245  [38464/60000]\n",
            "loss: 2.218045  [44864/60000]\n",
            "loss: 2.218361  [51264/60000]\n",
            "loss: 2.182652  [57664/60000]\n",
            "Test Error: \n",
            " Accuracy: 40.1%, Avg loss: 2.184310 \n",
            "\n",
            "Epoch 2\n",
            "-------------------------------\n",
            "loss: 2.193070  [   64/60000]\n",
            "loss: 2.186185  [ 6464/60000]\n",
            "loss: 2.140425  [12864/60000]\n",
            "loss: 2.152222  [19264/60000]\n",
            "loss: 2.117577  [25664/60000]\n",
            "loss: 2.060753  [32064/60000]\n",
            "loss: 2.090772  [38464/60000]\n",
            "loss: 2.024682  [44864/60000]\n",
            "loss: 2.031627  [51264/60000]\n",
            "loss: 1.963749  [57664/60000]\n",
            "Test Error: \n",
            " Accuracy: 54.6%, Avg loss: 1.965868 \n",
            "\n",
            "Epoch 3\n",
            "-------------------------------\n",
            "loss: 1.990376  [   64/60000]\n",
            "loss: 1.972720  [ 6464/60000]\n",
            "loss: 1.871601  [12864/60000]\n",
            "loss: 1.906250  [19264/60000]\n",
            "loss: 1.821085  [25664/60000]\n",
            "loss: 1.754893  [32064/60000]\n",
            "loss: 1.781206  [38464/60000]\n",
            "loss: 1.678788  [44864/60000]\n",
            "loss: 1.709686  [51264/60000]\n",
            "loss: 1.604517  [57664/60000]\n",
            "Test Error: \n",
            " Accuracy: 56.4%, Avg loss: 1.620933 \n",
            "\n",
            "Epoch 4\n",
            "-------------------------------\n",
            "loss: 1.676389  [   64/60000]\n",
            "loss: 1.647986  [ 6464/60000]\n",
            "loss: 1.502354  [12864/60000]\n",
            "loss: 1.572413  [19264/60000]\n",
            "loss: 1.462982  [25664/60000]\n",
            "loss: 1.436143  [32064/60000]\n",
            "loss: 1.455732  [38464/60000]\n",
            "loss: 1.364488  [44864/60000]\n",
            "loss: 1.412055  [51264/60000]\n",
            "loss: 1.309460  [57664/60000]\n",
            "Test Error: \n",
            " Accuracy: 60.3%, Avg loss: 1.336337 \n",
            "\n",
            "Epoch 5\n",
            "-------------------------------\n",
            "loss: 1.410583  [   64/60000]\n",
            "loss: 1.391783  [ 6464/60000]\n",
            "loss: 1.227875  [12864/60000]\n",
            "loss: 1.330680  [19264/60000]\n",
            "loss: 1.212513  [25664/60000]\n",
            "loss: 1.226242  [32064/60000]\n",
            "loss: 1.248949  [38464/60000]\n",
            "loss: 1.169916  [44864/60000]\n",
            "loss: 1.216967  [51264/60000]\n",
            "loss: 1.138548  [57664/60000]\n",
            "Test Error: \n",
            " Accuracy: 62.5%, Avg loss: 1.156710 \n",
            "\n",
            "Epoch 6\n",
            "-------------------------------\n",
            "loss: 1.229733  [   64/60000]\n",
            "loss: 1.229349  [ 6464/60000]\n",
            "loss: 1.047056  [12864/60000]\n",
            "loss: 1.178700  [19264/60000]\n",
            "loss: 1.052844  [25664/60000]\n",
            "loss: 1.084233  [32064/60000]\n",
            "loss: 1.120849  [38464/60000]\n",
            "loss: 1.044800  [44864/60000]\n",
            "loss: 1.090687  [51264/60000]\n",
            "loss: 1.032219  [57664/60000]\n",
            "Test Error: \n",
            " Accuracy: 64.1%, Avg loss: 1.039715 \n",
            "\n",
            "Epoch 7\n",
            "-------------------------------\n",
            "loss: 1.104436  [   64/60000]\n",
            "loss: 1.125241  [ 6464/60000]\n",
            "loss: 0.922805  [12864/60000]\n",
            "loss: 1.076328  [19264/60000]\n",
            "loss: 0.949771  [25664/60000]\n",
            "loss: 0.981345  [32064/60000]\n",
            "loss: 1.035984  [38464/60000]\n",
            "loss: 0.961215  [44864/60000]\n",
            "loss: 1.002140  [51264/60000]\n",
            "loss: 0.960692  [57664/60000]\n",
            "Test Error: \n",
            " Accuracy: 65.8%, Avg loss: 0.958726 \n",
            "\n",
            "Epoch 8\n",
            "-------------------------------\n",
            "loss: 1.011543  [   64/60000]\n",
            "loss: 1.053258  [ 6464/60000]\n",
            "loss: 0.832706  [12864/60000]\n",
            "loss: 1.002821  [19264/60000]\n",
            "loss: 0.879584  [25664/60000]\n",
            "loss: 0.903473  [32064/60000]\n",
            "loss: 0.975613  [38464/60000]\n",
            "loss: 0.903866  [44864/60000]\n",
            "loss: 0.936800  [51264/60000]\n",
            "loss: 0.908954  [57664/60000]\n",
            "Test Error: \n",
            " Accuracy: 67.1%, Avg loss: 0.899761 \n",
            "\n",
            "Epoch 9\n",
            "-------------------------------\n",
            "loss: 0.939456  [   64/60000]\n",
            "loss: 0.999459  [ 6464/60000]\n",
            "loss: 0.764766  [12864/60000]\n",
            "loss: 0.947385  [19264/60000]\n",
            "loss: 0.829377  [25664/60000]\n",
            "loss: 0.843265  [32064/60000]\n",
            "loss: 0.929873  [38464/60000]\n",
            "loss: 0.863680  [44864/60000]\n",
            "loss: 0.887461  [51264/60000]\n",
            "loss: 0.869324  [57664/60000]\n",
            "Test Error: \n",
            " Accuracy: 68.4%, Avg loss: 0.855028 \n",
            "\n",
            "Epoch 10\n",
            "-------------------------------\n",
            "loss: 0.881769  [   64/60000]\n",
            "loss: 0.956515  [ 6464/60000]\n",
            "loss: 0.711871  [12864/60000]\n",
            "loss: 0.904012  [19264/60000]\n",
            "loss: 0.791608  [25664/60000]\n",
            "loss: 0.796100  [32064/60000]\n",
            "loss: 0.893129  [38464/60000]\n",
            "loss: 0.834232  [44864/60000]\n",
            "loss: 0.849041  [51264/60000]\n",
            "loss: 0.836930  [57664/60000]\n",
            "Test Error: \n",
            " Accuracy: 69.6%, Avg loss: 0.819576 \n",
            "\n",
            "Total fine-tuning time: 89.663 sec\n",
            "Total fine-tuning time: 0.025 hrs\n",
            "SimpleMLPv2 model has been trained!\n"
          ]
        }
      ]
    },
    {
      "cell_type": "code",
      "source": [
        "# visualizing the loss curves\n",
        "plt.plot(range(1,epochs+1), train_losses)\n",
        "plt.plot(range(1,epochs+1), test_losses)\n",
        "plt.title('Model average losses after each epoch')\n",
        "plt.ylabel('loss')\n",
        "plt.xlabel('epoch')\n",
        "plt.legend(['train', 'test'])\n",
        "plt.show()"
      ],
      "metadata": {
        "colab": {
          "base_uri": "https://localhost:8080/",
          "height": 472
        },
        "id": "msFTwSYwEwge",
        "outputId": "d7244ec7-351a-4de2-b44c-47bd3103ddde"
      },
      "execution_count": null,
      "outputs": [
        {
          "output_type": "display_data",
          "data": {
            "text/plain": [
              "<Figure size 640x480 with 1 Axes>"
            ],
            "image/png": "[encoded data removed]"
          },
          "metadata": {}
        }
      ]
    },
    {
      "cell_type": "code",
      "source": [
        "print(train_losses)\n",
        "print(test_losses)\n"
      ],
      "metadata": {
        "colab": {
          "base_uri": "https://localhost:8080/"
        },
        "id": "7y22SkYPFmnK",
        "outputId": "7220faad-f9be-49b3-86ca-2330626cd6ca"
      },
      "execution_count": null,
      "outputs": [
        {
          "output_type": "stream",
          "name": "stdout",
          "text": [
            "[2.24877700851416, 2.0863987549281577, 1.7951810734866778, 1.4640315054322102, 1.2329032735656829, 1.0856437552839453, 0.9867078789007435, 0.9162965983088845, 0.8639510892855842, 0.8233658142054259]\n",
            "[2.184309828812909, 1.9658681070728667, 1.6209327924023769, 1.3363368670651867, 1.156709759098709, 1.0397147259135155, 0.9587260864342854, 0.899760613775557, 0.8550275325015851, 0.8195762338152357]\n"
          ]
        }
      ]
    },
    {
      "cell_type": "markdown",
      "source": [
        "#__Group Exercise__:\n",
        "Create another MLP with 3 hidden layers and then train that model on the Fashion-MNIST dataset using the SGD optimizer with a batch size of 64. If time permits, you can also train another MLP with the ADAM optimizer and observe if there is any change in training."
      ],
      "metadata": {
        "id": "p9MmCZ0--f9D"
      }
    },
    {
      "cell_type": "code",
      "source": [
        "# Step 1: load the Torch library and other utilities\n",
        "#----------------------------------------------------\n"
      ],
      "metadata": {
        "id": "SVonqhsEQXl3"
      },
      "execution_count": null,
      "outputs": []
    },
    {
      "cell_type": "code",
      "source": [
        "# Step 2: load the dataset, ie, we are experimenting with Fashion-MNIST\n",
        "#--------------------------------------------------------------------------------------------------\n"
      ],
      "metadata": {
        "id": "kqJB4hncQdXm"
      },
      "execution_count": null,
      "outputs": []
    },
    {
      "cell_type": "code",
      "source": [
        "# Step 3: Create your MLP Network (call it SimpleMLPv3) with 3 hidden layers\n",
        "#--------------------------------------------------------------------------------------------------\n",
        "# You should have the following structure in your MLP\n",
        "#   num_of_neurons_input_layer      = 784\n",
        "#   num_of_neurons_1st_hidden_layer = 512\n",
        "#   num_of_neurons_2nd_hidden_layer = 256\n",
        "#   num_of_neurons_3rd_hidden_layer = 128\n",
        "#   num_of_neurons_output_layer     = 10\n",
        "# You should use ReLU activation function in each hidden layer"
      ],
      "metadata": {
        "id": "NEzPNtrrQfeP"
      },
      "execution_count": null,
      "outputs": []
    },
    {
      "cell_type": "code",
      "source": [
        "# Step 4: Your training and testing functions (I copied it previous the previous demo. You don't need to change anything)\n",
        "#--------------------------------------------------------------------------------------\n",
        "\n",
        "def train_loop(dataloader, model, loss_fn, optimizer):\n",
        "\n",
        "    size = len(dataloader.dataset)\n",
        "\n",
        "    model.train()                   # set the model to training mode for best practices\n",
        "\n",
        "    train_loss = 0\n",
        "\n",
        "    for batch, (X, y) in enumerate(dataloader):\n",
        "\n",
        "        # compute prediction and loss\n",
        "        X = X.to(device)                  # send data to the GPU device (if available)\n",
        "        y = y.to(device)\n",
        "        pred = model(X)\n",
        "        loss = loss_fn(pred, y)\n",
        "\n",
        "        # Backpropagation\n",
        "        loss.backward()\n",
        "        optimizer.step()\n",
        "        optimizer.zero_grad()\n",
        "\n",
        "        train_loss += loss.item()\n",
        "\n",
        "        if batch % 100 == 0:\n",
        "            loss, current = loss.item(), (batch + 1) * len(X)\n",
        "            print(f\"loss: {loss:>7f}  [{current:>5d}/{size:>5d}]\")\n",
        "\n",
        "    return train_loss/len(dataloader)\n",
        "\n",
        "def test_loop(dataloader, model, loss_fn):\n",
        "\n",
        "    model.eval()                    # set the model to evaluation mode for best practices\n",
        "\n",
        "    size        = len(dataloader.dataset)\n",
        "    num_batches = len(dataloader)\n",
        "    test_loss, correct = 0, 0\n",
        "\n",
        "    # Evaluating the model with torch.no_grad() ensures that no gradients are computed during test mode\n",
        "    # also serves to reduce unnecessary gradient computations and memory usage for tensors with requires_grad=True\n",
        "    with torch.no_grad():\n",
        "        for X, y in dataloader:\n",
        "\n",
        "            X = X.to(device)                     # send data to the GPU device (if available)\n",
        "            y = y.to(device)\n",
        "            pred = model(X)\n",
        "            test_loss += loss_fn(pred, y).item()\n",
        "            correct += (pred.argmax(1) == y).type(torch.float).sum().item()\n",
        "\n",
        "    test_loss /= num_batches\n",
        "    correct /= size\n",
        "    print(f\"Test Error: \\n Accuracy: {(100*correct):>0.1f}%, Avg loss: {test_loss:>8f} \\n\")\n",
        "    return test_loss\n"
      ],
      "metadata": {
        "id": "Yw6a5TByQklU"
      },
      "execution_count": null,
      "outputs": []
    },
    {
      "cell_type": "code",
      "source": [
        "# Step 5: prepare the DataLoader and select your optimizer and set the hyper-parameters for learning the model from DataLoader\n",
        "#------------------------------------------------------------------------------------------------------------------------------\n",
        "# Initialize your hyper-parameter and optimizer with appropriate values\n",
        "# Use your dataset to prepare your DataLoaders one for training_data and one for test_data\n",
        "# ...\n",
        "# ...\n",
        "\n",
        "print(\"SimpleMLPv3 model has been trained!\")\n"
      ],
      "metadata": {
        "id": "tejagPCKQztY"
      },
      "execution_count": null,
      "outputs": []
    },
    {
      "cell_type": "code",
      "source": [
        "# visualizing the loss curves\n"
      ],
      "metadata": {
        "id": "_0hoLrbIRQtk"
      },
      "execution_count": null,
      "outputs": []
    }
  ],
  "metadata": {
    "celltoolbar": "Slideshow",
    "kernelspec": {
      "display_name": "Python 3",
      "name": "python3"
    },
    "language_info": {
      "codemirror_mode": {
        "name": "ipython",
        "version": 3
      },
      "file_extension": ".py",
      "mimetype": "text/x-python",
      "name": "python",
      "nbconvert_exporter": "python",
      "pygments_lexer": "ipython3",
      "version": "3.8.3"
    },
    "colab": {
      "provenance": [],
      "gpuType": "T4",
      "include_colab_link": true
    },
    "accelerator": "GPU"
  },
  "nbformat": 4,
  "nbformat_minor": 0
}